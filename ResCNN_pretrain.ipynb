{
 "cells": [
  {
   "cell_type": "code",
   "execution_count": 1,
   "metadata": {},
   "outputs": [],
   "source": [
    "import tensorflow as tf\n",
    "import pandas as pd\n",
    "import numpy as np\n",
    "from matplotlib import pyplot as plt\n",
    "from tensorflow.keras.preprocessing.image import load_img, img_to_array\n",
    "from tensorflow.keras.models import Model \n",
    "from tensorflow.keras.layers import Conv2D, Input, Conv2DTranspose, MaxPooling2D, concatenate, BatchNormalization, Activation, Add, Dropout\n",
    "from skimage.transform import resize\n",
    "from sklearn.model_selection import train_test_split\n",
    "\n",
    "from tensorflow.keras.applications.resnet50 import ResNet50"
   ]
  },
  {
   "cell_type": "code",
   "execution_count": 2,
   "metadata": {},
   "outputs": [],
   "source": [
    "import tensorflow.keras.backend as K\n",
    "import gc\n",
    "from keras import optimizers\n",
    "from tqdm.notebook import tqdm_notebook"
   ]
  },
  {
   "cell_type": "code",
   "execution_count": 3,
   "metadata": {},
   "outputs": [
    {
     "name": "stdout",
     "output_type": "stream",
     "text": [
      "tensorflow version:  2.4.0\n"
     ]
    }
   ],
   "source": [
    "print(\"tensorflow version: \", tf.__version__)"
   ]
  },
  {
   "cell_type": "code",
   "execution_count": 4,
   "metadata": {},
   "outputs": [],
   "source": [
    "'''----------LOAD DATA----------------'''\n",
    "\n",
    "data_dir = \"../DL_data/competition_data\"\n",
    "\n",
    "nrows = \"all\"                 # Set to 'all' to load the whole set\n",
    "load_validation = False      # Only load the validation images and masks\n",
    "\n",
    "\n",
    "#load the ids  and depths of 'nrows' from the training data set\n",
    "if isinstance(nrows, int) and nrows>0:\n",
    "    train_df = pd.read_csv(data_dir+\"/train.csv\", index_col=\"id\", usecols=[0], nrows=nrows)\n",
    "    depths_df = pd.read_csv(data_dir+\"/depths.csv\", index_col=\"id\")\n",
    "    train_df = train_df.join(depths_df)\n",
    "    test_df = depths_df[~depths_df.index.isin(train_df.index)]\n",
    "elif isinstance(nrows, str) and nrows.upper() == \"ALL\":\n",
    "    train_df = pd.read_csv(data_dir+\"/train.csv\", index_col=\"id\", usecols=[0])\n",
    "    depths_df = pd.read_csv(data_dir+\"/depths.csv\", index_col=\"id\")\n",
    "    train_df = train_df.join(depths_df)\n",
    "    test_df = depths_df[~depths_df.index.isin(train_df.index)]\n",
    "else:\n",
    "    raise ValueError(\"Invalid nrows value\")\n",
    "        \n",
    "\n",
    "        \n",
    "# Function that loads the ids of 'nrows' from the validation data set\n",
    "def load_validation_data(data_dir, nrows):\n",
    "    if isinstance(nrows, int) and nrows>0:\n",
    "        valid_ids = pd.read_csv(data_dir+\"/Validation_ids.csv\", usecols=[1], nrows=nrows)\n",
    "    elif isinstance(nrows, str) and nrows.upper() == \"ALL\":\n",
    "        valid_ids = pd.read_csv(data_dir+\"/Validation_ids.csv\")\n",
    "    else:\n",
    "        raise ValueError(\"Invalid nrows value\")\n",
    "    return valid_ids.ids"
   ]
  },
  {
   "cell_type": "code",
   "execution_count": 5,
   "metadata": {},
   "outputs": [
    {
     "name": "stdout",
     "output_type": "stream",
     "text": [
      "Loading images...\n"
     ]
    },
    {
     "data": {
      "application/vnd.jupyter.widget-view+json": {
       "model_id": "0d2eb43a9844452780930297e3cfb274",
       "version_major": 2,
       "version_minor": 0
      },
      "text/plain": [
       "  0%|          | 0/4000 [00:00<?, ?it/s]"
      ]
     },
     "metadata": {},
     "output_type": "display_data"
    },
    {
     "name": "stdout",
     "output_type": "stream",
     "text": [
      "Loading masks...\n"
     ]
    },
    {
     "data": {
      "application/vnd.jupyter.widget-view+json": {
       "model_id": "c3e3fe53fc4c4f30acb2efc3489896fb",
       "version_major": 2,
       "version_minor": 0
      },
      "text/plain": [
       "  0%|          | 0/4000 [00:00<?, ?it/s]"
      ]
     },
     "metadata": {},
     "output_type": "display_data"
    },
    {
     "name": "stdout",
     "output_type": "stream",
     "text": [
      "done loading images\n"
     ]
    }
   ],
   "source": [
    "if load_validation:\n",
    "    ids_to_load = load_validation_data(data_dir, nrows)\n",
    "    index_list = list(train_df.index)\n",
    "    ids_list = [index_list.index(i) for i in ids_to_load]\n",
    "    train_df = train_df.iloc[ids_list]\n",
    "else:\n",
    "    ids_to_load = train_df.index\n",
    "    \n",
    "print(\"Loading images...\")\n",
    "train_df[\"images\"] = [np.array(load_img(data_dir+\"/train/images/{}.png\".format(idx),\n",
    "                                        color_mode = \"grayscale\"))/255 for idx in tqdm_notebook(list(ids_to_load))]\n",
    "print(\"Loading masks...\")\n",
    "train_df[\"masks\"] = [np.array(load_img(data_dir+\"/train/masks/{}.png\".format(idx),\n",
    "                                       color_mode = \"grayscale\"))/65535 for idx in tqdm_notebook(list(ids_to_load))] \n",
    " #train_df.index\n",
    "\n",
    "print(\"done loading images\")"
   ]
  },
  {
   "cell_type": "code",
   "execution_count": 6,
   "metadata": {},
   "outputs": [
    {
     "name": "stdout",
     "output_type": "stream",
     "text": [
      "              z                                             images  \\\n",
      "id                                                                   \n",
      "2c45b152f1  312  [[0.3411764705882353, 0.3568627450980392, 0.37...   \n",
      "3cb59a4fdc  603  [[0.45098039215686275, 0.5411764705882353, 0.5...   \n",
      "e185ab5dc1  687  [[0.4666666666666667, 0.5058823529411764, 0.54...   \n",
      "c78c89577c  236  [[0.3411764705882353, 0.3176470588235294, 0.32...   \n",
      "6306dd3a8e  805  [[0.5490196078431373, 0.5568627450980392, 0.56...   \n",
      "...         ...                                                ...   \n",
      "429b289e07  562  [[0.5137254901960784, 0.5215686274509804, 0.52...   \n",
      "5d752d6d4a  235  [[0.4392156862745098, 0.4392156862745098, 0.43...   \n",
      "26527458de  587  [[0.5490196078431373, 0.5647058823529412, 0.58...   \n",
      "25fb3a895a  468  [[0.20392156862745098, 0.26666666666666666, 0....   \n",
      "f30c36bf6b  324  [[0.44313725490196076, 0.4392156862745098, 0.4...   \n",
      "\n",
      "                                                        masks  \n",
      "id                                                             \n",
      "2c45b152f1  [[0.0, 0.0, 0.0, 0.0, 0.0, 0.0, 0.0, 0.0, 0.0,...  \n",
      "3cb59a4fdc  [[1.0, 1.0, 1.0, 1.0, 1.0, 1.0, 1.0, 1.0, 1.0,...  \n",
      "e185ab5dc1  [[0.0, 0.0, 0.0, 0.0, 0.0, 0.0, 0.0, 0.0, 0.0,...  \n",
      "c78c89577c  [[0.0, 0.0, 0.0, 0.0, 0.0, 0.0, 0.0, 0.0, 0.0,...  \n",
      "6306dd3a8e  [[1.0, 1.0, 1.0, 1.0, 1.0, 1.0, 1.0, 1.0, 1.0,...  \n",
      "...                                                       ...  \n",
      "429b289e07  [[1.0, 1.0, 1.0, 1.0, 1.0, 1.0, 1.0, 1.0, 1.0,...  \n",
      "5d752d6d4a  [[0.0, 0.0, 0.0, 0.0, 0.0, 0.0, 0.0, 0.0, 0.0,...  \n",
      "26527458de  [[0.0, 0.0, 0.0, 0.0, 0.0, 0.0, 0.0, 0.0, 0.0,...  \n",
      "25fb3a895a  [[0.0, 0.0, 0.0, 0.0, 0.0, 0.0, 0.0, 0.0, 0.0,...  \n",
      "f30c36bf6b  [[0.0, 0.0, 0.0, 0.0, 0.0, 0.0, 0.0, 0.0, 0.0,...  \n",
      "\n",
      "[4000 rows x 3 columns]\n"
     ]
    }
   ],
   "source": [
    "print(train_df)"
   ]
  },
  {
   "cell_type": "code",
   "execution_count": 7,
   "metadata": {},
   "outputs": [
    {
     "name": "stdout",
     "output_type": "stream",
     "text": [
      "-------------------------------------------------------------\n",
      "id_index =  202\n",
      "[[0.36078431 0.36078431 0.36862745 ... 0.19607843 0.23529412 0.26666667]\n",
      " [0.36078431 0.36470588 0.37647059 ... 0.25490196 0.2745098  0.2745098 ]\n",
      " [0.36078431 0.37254902 0.38039216 ... 0.31372549 0.29803922 0.27843137]\n",
      " ...\n",
      " [0.36470588 0.37254902 0.38039216 ... 0.4        0.39607843 0.39215686]\n",
      " [0.36862745 0.37647059 0.38039216 ... 0.39607843 0.39607843 0.39215686]\n",
      " [0.37254902 0.38039216 0.38039216 ... 0.39607843 0.39607843 0.39607843]]\n",
      "(101, 101)\n",
      "-------------------------------------------------------------\n",
      "[[1. 1. 1. ... 0. 0. 0.]\n",
      " [1. 1. 1. ... 0. 0. 0.]\n",
      " [1. 1. 1. ... 0. 0. 0.]\n",
      " ...\n",
      " [1. 1. 1. ... 1. 1. 1.]\n",
      " [1. 1. 1. ... 1. 1. 1.]\n",
      " [1. 1. 1. ... 1. 1. 1.]]\n",
      "(101, 101)\n"
     ]
    }
   ],
   "source": [
    "# -------------> data example\n",
    "# printing\n",
    "print(\"-------------------------------------------------------------\")\n",
    "id = '2a070f3dc6'\n",
    "id_index = np.where(train_df.index == id)\n",
    "id_index = id_index[0][0]\n",
    "print(\"id_index = \", id_index)\n",
    "image = train_df[\"images\"][id]\n",
    "print(image)\n",
    "print(image.shape)\n",
    "print(\"-------------------------------------------------------------\")\n",
    "mask = train_df[\"masks\"][id]\n",
    "print(mask)\n",
    "print(mask.shape)"
   ]
  },
  {
   "cell_type": "code",
   "execution_count": 8,
   "metadata": {},
   "outputs": [
    {
     "data": {
      "image/png": "[encoded data removed]",
      "text/plain": [
       "<Figure size 432x288 with 2 Axes>"
      ]
     },
     "metadata": {
      "needs_background": "light"
     },
     "output_type": "display_data"
    }
   ],
   "source": [
    "def plot_image_example():\n",
    "    fig_imgshow, (axs_mask, axs_img) = plt.subplots(1, 2)\n",
    "    fig_imgshow.suptitle(\"Data example\")\n",
    "    axs_img.imshow(np.dstack((image, image, image)))  # interpolation='nearest'\n",
    "    axs_img.set(title=\"image\")\n",
    "    tmp = np.squeeze(mask).astype(np.float32)\n",
    "    axs_mask.imshow(np.dstack((tmp, tmp, tmp)))\n",
    "    axs_mask.set(title=\"mask\")\n",
    "\n",
    "\n",
    "plot_image_example()"
   ]
  },
  {
   "cell_type": "markdown",
   "metadata": {},
   "source": [
    "# **Prepossessing Data**"
   ]
  },
  {
   "cell_type": "markdown",
   "metadata": {},
   "source": [
    "#### ------> Resize to a pow of 2"
   ]
  },
  {
   "cell_type": "code",
   "execution_count": 9,
   "metadata": {},
   "outputs": [],
   "source": [
    "# either pad with zeros or resize with interpolation\n",
    "resize_to = 101\n",
    "original_size = 101\n",
    "\n",
    "\n",
    "def upsample(original_img):\n",
    "    if resize_to == original_size:\n",
    "        return original_img\n",
    "    return resize(original_img, (resize_to, resize_to), mode='constant', preserve_range=True)\n",
    "\n",
    "\n",
    "def pad_zeros(array):\n",
    "    padded_image = np.zeros(shape=(resize_to, resize_to))\n",
    "    padded_image[13:114, 13:114] = array\n",
    "    return padded_image"
   ]
  },
  {
   "cell_type": "code",
   "execution_count": 10,
   "metadata": {},
   "outputs": [],
   "source": [
    "resizing_function_to_use = upsample\n",
    "\n",
    "images_resized = np.array(train_df.images.map(resizing_function_to_use).tolist()).reshape((-1, resize_to, resize_to, 1))\n",
    "masks_resized = np.array(train_df.masks.map(resizing_function_to_use).tolist()).reshape((-1, resize_to, resize_to, 1))"
   ]
  },
  {
   "cell_type": "code",
   "execution_count": 11,
   "metadata": {},
   "outputs": [
    {
     "data": {
      "image/png": "[encoded data removed]",
      "text/plain": [
       "<Figure size 432x288 with 2 Axes>"
      ]
     },
     "metadata": {
      "needs_background": "light"
     },
     "output_type": "display_data"
    }
   ],
   "source": [
    "# Plotting\n",
    "def plot_reshape_example():\n",
    "    fig_reshape, (axs_reshape_mask, axs_reshape_img) = plt.subplots(1, 2)\n",
    "    fig_reshape.suptitle(\"Reshaped data example\")\n",
    "    axs_reshape_img.set(title=\"Reshaped image\")\n",
    "    axs_reshape_mask.set(title=\"Reshaped mask\")\n",
    "    axs_reshape_img.imshow(images_resized[id_index], cmap='gray')\n",
    "    axs_reshape_mask.imshow(masks_resized[id_index], cmap='gray')\n",
    "\n",
    "\n",
    "plot_reshape_example()"
   ]
  },
  {
   "cell_type": "markdown",
   "metadata": {},
   "source": [
    "#### -----> Calculating the salt coverage"
   ]
  },
  {
   "cell_type": "code",
   "execution_count": 12,
   "metadata": {},
   "outputs": [],
   "source": [
    "train_df[\"coverage\"] = train_df.masks.map(np.sum) / (train_df[\"masks\"][0].shape[0]*train_df[\"masks\"][0].shape[1])\n",
    "\n",
    "# Generate salt coverage classes\n",
    "def cov_to_class(val):    \n",
    "    for i in range(0, 11):\n",
    "        if val * 10 <= i :\n",
    "            return i\n",
    "        \n",
    "train_df[\"coverage_class\"] = train_df.coverage.map(cov_to_class)"
   ]
  },
  {
   "cell_type": "markdown",
   "metadata": {},
   "source": [
    "Plotting the salt coverage classes"
   ]
  },
  {
   "cell_type": "code",
   "execution_count": 13,
   "metadata": {},
   "outputs": [
    {
     "data": {
      "text/plain": [
       "Text(0.5, 0, 'Coverage class')"
      ]
     },
     "execution_count": 13,
     "metadata": {},
     "output_type": "execute_result"
    },
    {
     "data": {
      "image/png": "[encoded data removed]",
      "text/plain": [
       "<Figure size 432x288 with 2 Axes>"
      ]
     },
     "metadata": {
      "needs_background": "light"
     },
     "output_type": "display_data"
    }
   ],
   "source": [
    "#TO_DO: Change that to use matplotlib\n",
    "fig, axs = plt.subplots(1, 2, sharey=True, tight_layout=True)\n",
    "n_bins = 20\n",
    "axs[0].hist(train_df.coverage, bins=n_bins)\n",
    "axs[1].hist(train_df.coverage, bins=10)\n",
    "\n",
    "plt.suptitle(\"Salt coverage\")\n",
    "axs[0].set_xlabel(\"Coverage\")\n",
    "axs[1].set_xlabel(\"Coverage class\")"
   ]
  },
  {
   "cell_type": "markdown",
   "metadata": {},
   "source": [
    "#### ------> Split train/dev"
   ]
  },
  {
   "cell_type": "code",
   "execution_count": 14,
   "metadata": {},
   "outputs": [
    {
     "name": "stdout",
     "output_type": "stream",
     "text": [
      "Train/ Valid shape = 3600/ 400\n"
     ]
    }
   ],
   "source": [
    "(ids_train, ids_valid,\n",
    "x_train, x_valid,\n",
    "y_train, y_valid,\n",
    "cov_train, cov_test,\n",
    "#depth_train, depth_test\n",
    " ) = train_test_split(\n",
    "    train_df.index.values,\n",
    "    images_resized,\n",
    "    masks_resized,\n",
    "    train_df.coverage.values,\n",
    "    # train_df.z.values,\n",
    "    test_size=0.1,\n",
    "    stratify=train_df.coverage_class,\n",
    "    random_state=1337)\n",
    "\n",
    "print(\"Train/ Valid shape = %d/ %d\"%(x_train.shape[0], x_valid.shape[0]))"
   ]
  },
  {
   "cell_type": "code",
   "execution_count": null,
   "metadata": {},
   "outputs": [],
   "source": [
    "#print(ids_valid.shape)\n",
    "#ids = {\"ids\": list(ids_valid)}\n",
    "#df = pd.DataFrame(ids) # .to_csv(\"../DL_data/competition_data/Validation_ids.csv\")\n",
    "#df.to_csv(\"../DL_data/competition_data/Validation_ids.csv\")"
   ]
  },
  {
   "cell_type": "markdown",
   "metadata": {},
   "source": [
    "#### ------> Data augmentation"
   ]
  },
  {
   "cell_type": "code",
   "execution_count": 15,
   "metadata": {},
   "outputs": [],
   "source": [
    "x_train = np.append(x_train, [np.fliplr(x) for x in x_train], axis=0)\n",
    "y_train = np.append(y_train, [np.fliplr(x) for x in y_train], axis=0)"
   ]
  },
  {
   "cell_type": "code",
   "execution_count": 16,
   "metadata": {},
   "outputs": [
    {
     "name": "stdout",
     "output_type": "stream",
     "text": [
      "x_rain shape:  (7200, 101, 101, 1)\n",
      "y_train shape:  (7200, 101, 101, 1)\n"
     ]
    }
   ],
   "source": [
    "print(\"x_rain shape: \", x_train.shape)\n",
    "print(\"y_train shape: \", y_train.shape)"
   ]
  },
  {
   "cell_type": "markdown",
   "metadata": {},
   "source": [
    "# U-Net"
   ]
  },
  {
   "cell_type": "markdown",
   "metadata": {},
   "source": [
    "#### ------> Additional blocks"
   ]
  },
  {
   "cell_type": "code",
   "execution_count": 17,
   "metadata": {},
   "outputs": [],
   "source": [
    "def BatchActivate(x):\n",
    "    x = BatchNormalization()(x)\n",
    "    x = Activation('relu')(x)\n",
    "    return x\n",
    "\n",
    "def convolution_block(x, filters, size, strides=(1,1), padding='same', activation=True):\n",
    "    x = Conv2D(filters, size, strides=strides, padding=padding)(x)\n",
    "    if activation == True:\n",
    "        x = BatchActivate(x)\n",
    "    return x\n",
    "\n",
    "def residual_block(blockInput, num_filters=16, batch_activate = False):\n",
    "    x = BatchActivate(blockInput)\n",
    "    x = convolution_block(x, num_filters, (3,3) )\n",
    "    x = convolution_block(x, num_filters, (3,3), activation=False)\n",
    "    x = Add()([x, blockInput])\n",
    "    if batch_activate:\n",
    "        x = BatchActivate(x)\n",
    "    return x"
   ]
  },
  {
   "cell_type": "markdown",
   "metadata": {},
   "source": [
    "#### -----> IoU metric"
   ]
  },
  {
   "cell_type": "code",
   "execution_count": 18,
   "metadata": {},
   "outputs": [],
   "source": [
    "def get_iou_vector(A, B):\n",
    "    # Numpy version    \n",
    "    batch_size = A.shape[0]\n",
    "    #print(\"A shape: \", A.shape)\n",
    "    #print(\"B shape: \", B.shape)\n",
    "    metric = 0.0\n",
    "    for batch in range(batch_size):\n",
    "        \n",
    "        t, p = A[batch], B[batch]\n",
    "        true = np.sum(t)\n",
    "        pred = np.sum(p)\n",
    "        \n",
    "        #print(\"True: \", t)\n",
    "        #print(\"Predicted: \", p)\n",
    "        #print(\"----------------------\")\n",
    "        #print(\"True sum: \", true)\n",
    "        #print(\"Predicted sum: \", pred)\n",
    "        \n",
    "        # deal with empty mask first\n",
    "        if true == 0:\n",
    "            metric += (pred == 0)\n",
    "            continue\n",
    "        \n",
    "        # non empty mask case.  Union is never empty \n",
    "        # hence it is safe to divide by its number of pixels\n",
    "        intersection = np.sum(t * p)\n",
    "        union = true + pred - intersection\n",
    "        iou = intersection / union\n",
    "        \n",
    "        # Scale the iou function: iou -> 2*iou - 0.9\n",
    "        # This will map the threshold values [0.5, 0.55, 0.6, ...., 0.9] to the\n",
    "        # values [0.1, 0.2, 0.3, ....., 0.9]. Then multiply 2*iou - 0.9 by 10 and floor.\n",
    "        # This will map the iou values to the number of thresholds that the iou sutisfies\n",
    "        # witch is what we are intreasted in in the first playse.\n",
    "        # For example if iou=0.552 then floor(2*iou - 0.9)*10 = 2. Since\n",
    "        # eveery value <0 means an original value<0.5 we take the max with 0. Finaly we \n",
    "        # devide by 10 = |threshods|.\n",
    "        iou = np.floor(max(0, (iou - 0.45)*20)) / 10\n",
    "        \n",
    "        metric += iou\n",
    "        \n",
    "    # teake the average over all images in batch\n",
    "    metric /= batch_size\n",
    "    return metric\n",
    "\n",
    "\n",
    "def my_iou_metric(label, pred):\n",
    "    # Tensorflow version\n",
    "    return tf.compat.v1.py_func(get_iou_vector, [label, pred > 0.5], tf.float64)"
   ]
  },
  {
   "cell_type": "markdown",
   "metadata": {},
   "source": [
    "##### -----> Model definition"
   ]
  },
  {
   "cell_type": "code",
   "execution_count": 19,
   "metadata": {},
   "outputs": [
    {
     "name": "stdout",
     "output_type": "stream",
     "text": [
      "START BUILDING MODEL\n",
      "BUILD INPUT\n"
     ]
    }
   ],
   "source": [
    "start_neurons = 16\n",
    "DropoutRatio = 0.5\n",
    "print(\"START BUILDING MODEL\")\n",
    "input_layer = Input((101, 101, 1))\n",
    "print(\"BUILD INPUT\")\n",
    "\n",
    "# 101 -> 50\n",
    "conv1 = Conv2D(start_neurons * 1, (3, 3), activation=None, padding=\"same\")(input_layer)\n",
    "conv1 = residual_block(conv1,start_neurons * 1)\n",
    "conv1 = residual_block(conv1,start_neurons * 1, True)\n",
    "pool1 = MaxPooling2D((2, 2))(conv1)\n",
    "pool1 = Dropout(DropoutRatio/2)(pool1)\n",
    "\n",
    "# 50 -> 25\n",
    "conv2 = Conv2D(start_neurons * 2, (3, 3), activation=None, padding=\"same\")(pool1)\n",
    "conv2 = residual_block(conv2,start_neurons * 2)\n",
    "conv2 = residual_block(conv2,start_neurons * 2, True)\n",
    "pool2 = MaxPooling2D((2, 2))(conv2)\n",
    "pool2 = Dropout(DropoutRatio)(pool2)\n",
    "\n",
    "# 25 -> 12\n",
    "conv3 = Conv2D(start_neurons * 4, (3, 3), activation=None, padding=\"same\")(pool2)\n",
    "conv3 = residual_block(conv3,start_neurons * 4)\n",
    "conv3 = residual_block(conv3,start_neurons * 4, True)\n",
    "pool3 = MaxPooling2D((2, 2))(conv3)\n",
    "pool3 = Dropout(DropoutRatio)(pool3)\n",
    "\n",
    "# 12 -> 6\n",
    "conv4 = Conv2D(start_neurons * 8, (3, 3), activation=None, padding=\"same\")(pool3)\n",
    "conv4 = residual_block(conv4,start_neurons * 8)\n",
    "conv4 = residual_block(conv4,start_neurons * 8, True)\n",
    "pool4 = MaxPooling2D((2, 2))(conv4)\n",
    "pool4 = Dropout(DropoutRatio)(pool4)\n",
    "\n",
    "# Middle\n",
    "convm = Conv2D(start_neurons * 16, (3, 3), activation=None, padding=\"same\")(pool4)\n",
    "convm = residual_block(convm,start_neurons * 16)\n",
    "convm = residual_block(convm,start_neurons * 16, True)\n",
    "    \n",
    "# 6 -> 12\n",
    "deconv4 = Conv2DTranspose(start_neurons * 8, (3, 3), strides=(2, 2), padding=\"same\")(convm)\n",
    "uconv4 = concatenate([deconv4, conv4])\n",
    "uconv4 = Dropout(DropoutRatio)(uconv4)\n",
    "    \n",
    "uconv4 = Conv2D(start_neurons * 8, (3, 3), activation=None, padding=\"same\")(uconv4)\n",
    "uconv4 = residual_block(uconv4,start_neurons * 8)\n",
    "uconv4 = residual_block(uconv4,start_neurons * 8, True)\n",
    "\n",
    "# 12 -> 25\n",
    "#deconv3 = Conv2DTranspose(start_neurons * 4, (3, 3), strides=(2, 2), padding=\"same\")(uconv4)\n",
    "deconv3 = Conv2DTranspose(start_neurons * 4, (3, 3), strides=(2, 2), padding=\"valid\")(uconv4)\n",
    "uconv3 = concatenate([deconv3, conv3])    \n",
    "uconv3 = Dropout(DropoutRatio)(uconv3)\n",
    "    \n",
    "uconv3 = Conv2D(start_neurons * 4, (3, 3), activation=None, padding=\"same\")(uconv3)\n",
    "uconv3 = residual_block(uconv3,start_neurons * 4)\n",
    "uconv3 = residual_block(uconv3,start_neurons * 4, True)\n",
    "\n",
    "# 25 -> 50\n",
    "deconv2 = Conv2DTranspose(start_neurons * 2, (3, 3), strides=(2, 2), padding=\"same\")(uconv3)\n",
    "uconv2 = concatenate([deconv2, conv2])\n",
    "        \n",
    "uconv2 = Dropout(DropoutRatio)(uconv2)\n",
    "uconv2 = Conv2D(start_neurons * 2, (3, 3), activation=None, padding=\"same\")(uconv2)\n",
    "uconv2 = residual_block(uconv2,start_neurons * 2)\n",
    "uconv2 = residual_block(uconv2,start_neurons * 2, True)\n",
    "\n",
    "# 50 -> 101\n",
    "#deconv1 = Conv2DTranspose(start_neurons * 1, (3, 3), strides=(2, 2), padding=\"same\")(uconv2)\n",
    "deconv1 = Conv2DTranspose(start_neurons * 1, (3, 3), strides=(2, 2), padding=\"valid\")(uconv2)\n",
    "uconv1 = concatenate([deconv1, conv1])\n",
    "    \n",
    "uconv1 = Dropout(DropoutRatio)(uconv1)\n",
    "uconv1 = Conv2D(start_neurons * 1, (3, 3), activation=None, padding=\"same\")(uconv1)\n",
    "uconv1 = residual_block(uconv1,start_neurons * 1)\n",
    "uconv1 = residual_block(uconv1,start_neurons * 1, True)\n",
    "    \n",
    "#uconv1 = Dropout(DropoutRatio/2)(uconv1)\n",
    "#output_layer = Conv2D(1, (1,1), padding=\"same\", activation=\"sigmoid\")(uconv1)\n",
    "output_layer_noActi = Conv2D(1, (1,1), padding=\"same\", activation=None)(uconv1)\n",
    "output_layer =  Activation('sigmoid')(output_layer_noActi)"
   ]
  },
  {
   "cell_type": "code",
   "execution_count": 20,
   "metadata": {},
   "outputs": [
    {
     "name": "stdout",
     "output_type": "stream",
     "text": [
      "BUILD MODEL\n",
      "COMPILE\n",
      "Model: \"model\"\n",
      "__________________________________________________________________________________________________\n",
      "Layer (type)                    Output Shape         Param #     Connected to                     \n",
      "==================================================================================================\n",
      "input_1 (InputLayer)            [(None, 101, 101, 1) 0                                            \n",
      "__________________________________________________________________________________________________\n",
      "conv2d (Conv2D)                 (None, 101, 101, 16) 160         input_1[0][0]                    \n",
      "__________________________________________________________________________________________________\n",
      "batch_normalization (BatchNorma (None, 101, 101, 16) 64          conv2d[0][0]                     \n",
      "__________________________________________________________________________________________________\n",
      "activation (Activation)         (None, 101, 101, 16) 0           batch_normalization[0][0]        \n",
      "__________________________________________________________________________________________________\n",
      "conv2d_1 (Conv2D)               (None, 101, 101, 16) 2320        activation[0][0]                 \n",
      "__________________________________________________________________________________________________\n",
      "batch_normalization_1 (BatchNor (None, 101, 101, 16) 64          conv2d_1[0][0]                   \n",
      "__________________________________________________________________________________________________\n",
      "activation_1 (Activation)       (None, 101, 101, 16) 0           batch_normalization_1[0][0]      \n",
      "__________________________________________________________________________________________________\n",
      "conv2d_2 (Conv2D)               (None, 101, 101, 16) 2320        activation_1[0][0]               \n",
      "__________________________________________________________________________________________________\n",
      "add (Add)                       (None, 101, 101, 16) 0           conv2d_2[0][0]                   \n",
      "                                                                 conv2d[0][0]                     \n",
      "__________________________________________________________________________________________________\n",
      "batch_normalization_2 (BatchNor (None, 101, 101, 16) 64          add[0][0]                        \n",
      "__________________________________________________________________________________________________\n",
      "activation_2 (Activation)       (None, 101, 101, 16) 0           batch_normalization_2[0][0]      \n",
      "__________________________________________________________________________________________________\n",
      "conv2d_3 (Conv2D)               (None, 101, 101, 16) 2320        activation_2[0][0]               \n",
      "__________________________________________________________________________________________________\n",
      "batch_normalization_3 (BatchNor (None, 101, 101, 16) 64          conv2d_3[0][0]                   \n",
      "__________________________________________________________________________________________________\n",
      "activation_3 (Activation)       (None, 101, 101, 16) 0           batch_normalization_3[0][0]      \n",
      "__________________________________________________________________________________________________\n",
      "conv2d_4 (Conv2D)               (None, 101, 101, 16) 2320        activation_3[0][0]               \n",
      "__________________________________________________________________________________________________\n",
      "add_1 (Add)                     (None, 101, 101, 16) 0           conv2d_4[0][0]                   \n",
      "                                                                 add[0][0]                        \n",
      "__________________________________________________________________________________________________\n",
      "batch_normalization_4 (BatchNor (None, 101, 101, 16) 64          add_1[0][0]                      \n",
      "__________________________________________________________________________________________________\n",
      "activation_4 (Activation)       (None, 101, 101, 16) 0           batch_normalization_4[0][0]      \n",
      "__________________________________________________________________________________________________\n",
      "max_pooling2d (MaxPooling2D)    (None, 50, 50, 16)   0           activation_4[0][0]               \n",
      "__________________________________________________________________________________________________\n",
      "dropout (Dropout)               (None, 50, 50, 16)   0           max_pooling2d[0][0]              \n",
      "__________________________________________________________________________________________________\n",
      "conv2d_5 (Conv2D)               (None, 50, 50, 32)   4640        dropout[0][0]                    \n",
      "__________________________________________________________________________________________________\n",
      "batch_normalization_5 (BatchNor (None, 50, 50, 32)   128         conv2d_5[0][0]                   \n",
      "__________________________________________________________________________________________________\n",
      "activation_5 (Activation)       (None, 50, 50, 32)   0           batch_normalization_5[0][0]      \n",
      "__________________________________________________________________________________________________\n",
      "conv2d_6 (Conv2D)               (None, 50, 50, 32)   9248        activation_5[0][0]               \n",
      "__________________________________________________________________________________________________\n",
      "batch_normalization_6 (BatchNor (None, 50, 50, 32)   128         conv2d_6[0][0]                   \n",
      "__________________________________________________________________________________________________\n",
      "activation_6 (Activation)       (None, 50, 50, 32)   0           batch_normalization_6[0][0]      \n",
      "__________________________________________________________________________________________________\n",
      "conv2d_7 (Conv2D)               (None, 50, 50, 32)   9248        activation_6[0][0]               \n",
      "__________________________________________________________________________________________________\n",
      "add_2 (Add)                     (None, 50, 50, 32)   0           conv2d_7[0][0]                   \n",
      "                                                                 conv2d_5[0][0]                   \n",
      "__________________________________________________________________________________________________\n",
      "batch_normalization_7 (BatchNor (None, 50, 50, 32)   128         add_2[0][0]                      \n",
      "__________________________________________________________________________________________________\n",
      "activation_7 (Activation)       (None, 50, 50, 32)   0           batch_normalization_7[0][0]      \n",
      "__________________________________________________________________________________________________\n",
      "conv2d_8 (Conv2D)               (None, 50, 50, 32)   9248        activation_7[0][0]               \n",
      "__________________________________________________________________________________________________\n",
      "batch_normalization_8 (BatchNor (None, 50, 50, 32)   128         conv2d_8[0][0]                   \n",
      "__________________________________________________________________________________________________\n",
      "activation_8 (Activation)       (None, 50, 50, 32)   0           batch_normalization_8[0][0]      \n",
      "__________________________________________________________________________________________________\n",
      "conv2d_9 (Conv2D)               (None, 50, 50, 32)   9248        activation_8[0][0]               \n",
      "__________________________________________________________________________________________________\n",
      "add_3 (Add)                     (None, 50, 50, 32)   0           conv2d_9[0][0]                   \n",
      "                                                                 add_2[0][0]                      \n",
      "__________________________________________________________________________________________________\n",
      "batch_normalization_9 (BatchNor (None, 50, 50, 32)   128         add_3[0][0]                      \n",
      "__________________________________________________________________________________________________\n",
      "activation_9 (Activation)       (None, 50, 50, 32)   0           batch_normalization_9[0][0]      \n",
      "__________________________________________________________________________________________________\n",
      "max_pooling2d_1 (MaxPooling2D)  (None, 25, 25, 32)   0           activation_9[0][0]               \n",
      "__________________________________________________________________________________________________\n",
      "dropout_1 (Dropout)             (None, 25, 25, 32)   0           max_pooling2d_1[0][0]            \n",
      "__________________________________________________________________________________________________\n",
      "conv2d_10 (Conv2D)              (None, 25, 25, 64)   18496       dropout_1[0][0]                  \n",
      "__________________________________________________________________________________________________\n",
      "batch_normalization_10 (BatchNo (None, 25, 25, 64)   256         conv2d_10[0][0]                  \n",
      "__________________________________________________________________________________________________\n",
      "activation_10 (Activation)      (None, 25, 25, 64)   0           batch_normalization_10[0][0]     \n",
      "__________________________________________________________________________________________________\n",
      "conv2d_11 (Conv2D)              (None, 25, 25, 64)   36928       activation_10[0][0]              \n",
      "__________________________________________________________________________________________________\n",
      "batch_normalization_11 (BatchNo (None, 25, 25, 64)   256         conv2d_11[0][0]                  \n",
      "__________________________________________________________________________________________________\n",
      "activation_11 (Activation)      (None, 25, 25, 64)   0           batch_normalization_11[0][0]     \n",
      "__________________________________________________________________________________________________\n",
      "conv2d_12 (Conv2D)              (None, 25, 25, 64)   36928       activation_11[0][0]              \n",
      "__________________________________________________________________________________________________\n",
      "add_4 (Add)                     (None, 25, 25, 64)   0           conv2d_12[0][0]                  \n",
      "                                                                 conv2d_10[0][0]                  \n",
      "__________________________________________________________________________________________________\n",
      "batch_normalization_12 (BatchNo (None, 25, 25, 64)   256         add_4[0][0]                      \n",
      "__________________________________________________________________________________________________\n",
      "activation_12 (Activation)      (None, 25, 25, 64)   0           batch_normalization_12[0][0]     \n",
      "__________________________________________________________________________________________________\n",
      "conv2d_13 (Conv2D)              (None, 25, 25, 64)   36928       activation_12[0][0]              \n",
      "__________________________________________________________________________________________________\n",
      "batch_normalization_13 (BatchNo (None, 25, 25, 64)   256         conv2d_13[0][0]                  \n",
      "__________________________________________________________________________________________________\n",
      "activation_13 (Activation)      (None, 25, 25, 64)   0           batch_normalization_13[0][0]     \n",
      "__________________________________________________________________________________________________\n",
      "conv2d_14 (Conv2D)              (None, 25, 25, 64)   36928       activation_13[0][0]              \n",
      "__________________________________________________________________________________________________\n",
      "add_5 (Add)                     (None, 25, 25, 64)   0           conv2d_14[0][0]                  \n",
      "                                                                 add_4[0][0]                      \n",
      "__________________________________________________________________________________________________\n",
      "batch_normalization_14 (BatchNo (None, 25, 25, 64)   256         add_5[0][0]                      \n",
      "__________________________________________________________________________________________________\n",
      "activation_14 (Activation)      (None, 25, 25, 64)   0           batch_normalization_14[0][0]     \n",
      "__________________________________________________________________________________________________\n",
      "max_pooling2d_2 (MaxPooling2D)  (None, 12, 12, 64)   0           activation_14[0][0]              \n",
      "__________________________________________________________________________________________________\n",
      "dropout_2 (Dropout)             (None, 12, 12, 64)   0           max_pooling2d_2[0][0]            \n",
      "__________________________________________________________________________________________________\n",
      "conv2d_15 (Conv2D)              (None, 12, 12, 128)  73856       dropout_2[0][0]                  \n",
      "__________________________________________________________________________________________________\n",
      "batch_normalization_15 (BatchNo (None, 12, 12, 128)  512         conv2d_15[0][0]                  \n",
      "__________________________________________________________________________________________________\n",
      "activation_15 (Activation)      (None, 12, 12, 128)  0           batch_normalization_15[0][0]     \n",
      "__________________________________________________________________________________________________\n",
      "conv2d_16 (Conv2D)              (None, 12, 12, 128)  147584      activation_15[0][0]              \n",
      "__________________________________________________________________________________________________\n",
      "batch_normalization_16 (BatchNo (None, 12, 12, 128)  512         conv2d_16[0][0]                  \n",
      "__________________________________________________________________________________________________\n",
      "activation_16 (Activation)      (None, 12, 12, 128)  0           batch_normalization_16[0][0]     \n",
      "__________________________________________________________________________________________________\n",
      "conv2d_17 (Conv2D)              (None, 12, 12, 128)  147584      activation_16[0][0]              \n",
      "__________________________________________________________________________________________________\n",
      "add_6 (Add)                     (None, 12, 12, 128)  0           conv2d_17[0][0]                  \n",
      "                                                                 conv2d_15[0][0]                  \n",
      "__________________________________________________________________________________________________\n",
      "batch_normalization_17 (BatchNo (None, 12, 12, 128)  512         add_6[0][0]                      \n",
      "__________________________________________________________________________________________________\n",
      "activation_17 (Activation)      (None, 12, 12, 128)  0           batch_normalization_17[0][0]     \n",
      "__________________________________________________________________________________________________\n",
      "conv2d_18 (Conv2D)              (None, 12, 12, 128)  147584      activation_17[0][0]              \n",
      "__________________________________________________________________________________________________\n",
      "batch_normalization_18 (BatchNo (None, 12, 12, 128)  512         conv2d_18[0][0]                  \n",
      "__________________________________________________________________________________________________\n",
      "activation_18 (Activation)      (None, 12, 12, 128)  0           batch_normalization_18[0][0]     \n",
      "__________________________________________________________________________________________________\n",
      "conv2d_19 (Conv2D)              (None, 12, 12, 128)  147584      activation_18[0][0]              \n",
      "__________________________________________________________________________________________________\n",
      "add_7 (Add)                     (None, 12, 12, 128)  0           conv2d_19[0][0]                  \n",
      "                                                                 add_6[0][0]                      \n",
      "__________________________________________________________________________________________________\n",
      "batch_normalization_19 (BatchNo (None, 12, 12, 128)  512         add_7[0][0]                      \n",
      "__________________________________________________________________________________________________\n",
      "activation_19 (Activation)      (None, 12, 12, 128)  0           batch_normalization_19[0][0]     \n",
      "__________________________________________________________________________________________________\n",
      "max_pooling2d_3 (MaxPooling2D)  (None, 6, 6, 128)    0           activation_19[0][0]              \n",
      "__________________________________________________________________________________________________\n",
      "dropout_3 (Dropout)             (None, 6, 6, 128)    0           max_pooling2d_3[0][0]            \n",
      "__________________________________________________________________________________________________\n",
      "conv2d_20 (Conv2D)              (None, 6, 6, 256)    295168      dropout_3[0][0]                  \n",
      "__________________________________________________________________________________________________\n",
      "batch_normalization_20 (BatchNo (None, 6, 6, 256)    1024        conv2d_20[0][0]                  \n",
      "__________________________________________________________________________________________________\n",
      "activation_20 (Activation)      (None, 6, 6, 256)    0           batch_normalization_20[0][0]     \n",
      "__________________________________________________________________________________________________\n",
      "conv2d_21 (Conv2D)              (None, 6, 6, 256)    590080      activation_20[0][0]              \n",
      "__________________________________________________________________________________________________\n",
      "batch_normalization_21 (BatchNo (None, 6, 6, 256)    1024        conv2d_21[0][0]                  \n",
      "__________________________________________________________________________________________________\n",
      "activation_21 (Activation)      (None, 6, 6, 256)    0           batch_normalization_21[0][0]     \n",
      "__________________________________________________________________________________________________\n",
      "conv2d_22 (Conv2D)              (None, 6, 6, 256)    590080      activation_21[0][0]              \n",
      "__________________________________________________________________________________________________\n",
      "add_8 (Add)                     (None, 6, 6, 256)    0           conv2d_22[0][0]                  \n",
      "                                                                 conv2d_20[0][0]                  \n",
      "__________________________________________________________________________________________________\n",
      "batch_normalization_22 (BatchNo (None, 6, 6, 256)    1024        add_8[0][0]                      \n",
      "__________________________________________________________________________________________________\n",
      "activation_22 (Activation)      (None, 6, 6, 256)    0           batch_normalization_22[0][0]     \n",
      "__________________________________________________________________________________________________\n",
      "conv2d_23 (Conv2D)              (None, 6, 6, 256)    590080      activation_22[0][0]              \n",
      "__________________________________________________________________________________________________\n",
      "batch_normalization_23 (BatchNo (None, 6, 6, 256)    1024        conv2d_23[0][0]                  \n",
      "__________________________________________________________________________________________________\n",
      "activation_23 (Activation)      (None, 6, 6, 256)    0           batch_normalization_23[0][0]     \n",
      "__________________________________________________________________________________________________\n",
      "conv2d_24 (Conv2D)              (None, 6, 6, 256)    590080      activation_23[0][0]              \n",
      "__________________________________________________________________________________________________\n",
      "add_9 (Add)                     (None, 6, 6, 256)    0           conv2d_24[0][0]                  \n",
      "                                                                 add_8[0][0]                      \n",
      "__________________________________________________________________________________________________\n",
      "batch_normalization_24 (BatchNo (None, 6, 6, 256)    1024        add_9[0][0]                      \n",
      "__________________________________________________________________________________________________\n",
      "activation_24 (Activation)      (None, 6, 6, 256)    0           batch_normalization_24[0][0]     \n",
      "__________________________________________________________________________________________________\n",
      "conv2d_transpose (Conv2DTranspo (None, 12, 12, 128)  295040      activation_24[0][0]              \n",
      "__________________________________________________________________________________________________\n",
      "concatenate (Concatenate)       (None, 12, 12, 256)  0           conv2d_transpose[0][0]           \n",
      "                                                                 activation_19[0][0]              \n",
      "__________________________________________________________________________________________________\n",
      "dropout_4 (Dropout)             (None, 12, 12, 256)  0           concatenate[0][0]                \n",
      "__________________________________________________________________________________________________\n",
      "conv2d_25 (Conv2D)              (None, 12, 12, 128)  295040      dropout_4[0][0]                  \n",
      "__________________________________________________________________________________________________\n",
      "batch_normalization_25 (BatchNo (None, 12, 12, 128)  512         conv2d_25[0][0]                  \n",
      "__________________________________________________________________________________________________\n",
      "activation_25 (Activation)      (None, 12, 12, 128)  0           batch_normalization_25[0][0]     \n",
      "__________________________________________________________________________________________________\n",
      "conv2d_26 (Conv2D)              (None, 12, 12, 128)  147584      activation_25[0][0]              \n",
      "__________________________________________________________________________________________________\n",
      "batch_normalization_26 (BatchNo (None, 12, 12, 128)  512         conv2d_26[0][0]                  \n",
      "__________________________________________________________________________________________________\n",
      "activation_26 (Activation)      (None, 12, 12, 128)  0           batch_normalization_26[0][0]     \n",
      "__________________________________________________________________________________________________\n",
      "conv2d_27 (Conv2D)              (None, 12, 12, 128)  147584      activation_26[0][0]              \n",
      "__________________________________________________________________________________________________\n",
      "add_10 (Add)                    (None, 12, 12, 128)  0           conv2d_27[0][0]                  \n",
      "                                                                 conv2d_25[0][0]                  \n",
      "__________________________________________________________________________________________________\n",
      "batch_normalization_27 (BatchNo (None, 12, 12, 128)  512         add_10[0][0]                     \n",
      "__________________________________________________________________________________________________\n",
      "activation_27 (Activation)      (None, 12, 12, 128)  0           batch_normalization_27[0][0]     \n",
      "__________________________________________________________________________________________________\n",
      "conv2d_28 (Conv2D)              (None, 12, 12, 128)  147584      activation_27[0][0]              \n",
      "__________________________________________________________________________________________________\n",
      "batch_normalization_28 (BatchNo (None, 12, 12, 128)  512         conv2d_28[0][0]                  \n",
      "__________________________________________________________________________________________________\n",
      "activation_28 (Activation)      (None, 12, 12, 128)  0           batch_normalization_28[0][0]     \n",
      "__________________________________________________________________________________________________\n",
      "conv2d_29 (Conv2D)              (None, 12, 12, 128)  147584      activation_28[0][0]              \n",
      "__________________________________________________________________________________________________\n",
      "add_11 (Add)                    (None, 12, 12, 128)  0           conv2d_29[0][0]                  \n",
      "                                                                 add_10[0][0]                     \n",
      "__________________________________________________________________________________________________\n",
      "batch_normalization_29 (BatchNo (None, 12, 12, 128)  512         add_11[0][0]                     \n",
      "__________________________________________________________________________________________________\n",
      "activation_29 (Activation)      (None, 12, 12, 128)  0           batch_normalization_29[0][0]     \n",
      "__________________________________________________________________________________________________\n",
      "conv2d_transpose_1 (Conv2DTrans (None, 25, 25, 64)   73792       activation_29[0][0]              \n",
      "__________________________________________________________________________________________________\n",
      "concatenate_1 (Concatenate)     (None, 25, 25, 128)  0           conv2d_transpose_1[0][0]         \n",
      "                                                                 activation_14[0][0]              \n",
      "__________________________________________________________________________________________________\n",
      "dropout_5 (Dropout)             (None, 25, 25, 128)  0           concatenate_1[0][0]              \n",
      "__________________________________________________________________________________________________\n",
      "conv2d_30 (Conv2D)              (None, 25, 25, 64)   73792       dropout_5[0][0]                  \n",
      "__________________________________________________________________________________________________\n",
      "batch_normalization_30 (BatchNo (None, 25, 25, 64)   256         conv2d_30[0][0]                  \n",
      "__________________________________________________________________________________________________\n",
      "activation_30 (Activation)      (None, 25, 25, 64)   0           batch_normalization_30[0][0]     \n",
      "__________________________________________________________________________________________________\n",
      "conv2d_31 (Conv2D)              (None, 25, 25, 64)   36928       activation_30[0][0]              \n",
      "__________________________________________________________________________________________________\n",
      "batch_normalization_31 (BatchNo (None, 25, 25, 64)   256         conv2d_31[0][0]                  \n",
      "__________________________________________________________________________________________________\n",
      "activation_31 (Activation)      (None, 25, 25, 64)   0           batch_normalization_31[0][0]     \n",
      "__________________________________________________________________________________________________\n",
      "conv2d_32 (Conv2D)              (None, 25, 25, 64)   36928       activation_31[0][0]              \n",
      "__________________________________________________________________________________________________\n",
      "add_12 (Add)                    (None, 25, 25, 64)   0           conv2d_32[0][0]                  \n",
      "                                                                 conv2d_30[0][0]                  \n",
      "__________________________________________________________________________________________________\n",
      "batch_normalization_32 (BatchNo (None, 25, 25, 64)   256         add_12[0][0]                     \n",
      "__________________________________________________________________________________________________\n",
      "activation_32 (Activation)      (None, 25, 25, 64)   0           batch_normalization_32[0][0]     \n",
      "__________________________________________________________________________________________________\n",
      "conv2d_33 (Conv2D)              (None, 25, 25, 64)   36928       activation_32[0][0]              \n",
      "__________________________________________________________________________________________________\n",
      "batch_normalization_33 (BatchNo (None, 25, 25, 64)   256         conv2d_33[0][0]                  \n",
      "__________________________________________________________________________________________________\n",
      "activation_33 (Activation)      (None, 25, 25, 64)   0           batch_normalization_33[0][0]     \n",
      "__________________________________________________________________________________________________\n",
      "conv2d_34 (Conv2D)              (None, 25, 25, 64)   36928       activation_33[0][0]              \n",
      "__________________________________________________________________________________________________\n",
      "add_13 (Add)                    (None, 25, 25, 64)   0           conv2d_34[0][0]                  \n",
      "                                                                 add_12[0][0]                     \n",
      "__________________________________________________________________________________________________\n",
      "batch_normalization_34 (BatchNo (None, 25, 25, 64)   256         add_13[0][0]                     \n",
      "__________________________________________________________________________________________________\n",
      "activation_34 (Activation)      (None, 25, 25, 64)   0           batch_normalization_34[0][0]     \n",
      "__________________________________________________________________________________________________\n",
      "conv2d_transpose_2 (Conv2DTrans (None, 50, 50, 32)   18464       activation_34[0][0]              \n",
      "__________________________________________________________________________________________________\n",
      "concatenate_2 (Concatenate)     (None, 50, 50, 64)   0           conv2d_transpose_2[0][0]         \n",
      "                                                                 activation_9[0][0]               \n",
      "__________________________________________________________________________________________________\n",
      "dropout_6 (Dropout)             (None, 50, 50, 64)   0           concatenate_2[0][0]              \n",
      "__________________________________________________________________________________________________\n",
      "conv2d_35 (Conv2D)              (None, 50, 50, 32)   18464       dropout_6[0][0]                  \n",
      "__________________________________________________________________________________________________\n",
      "batch_normalization_35 (BatchNo (None, 50, 50, 32)   128         conv2d_35[0][0]                  \n",
      "__________________________________________________________________________________________________\n",
      "activation_35 (Activation)      (None, 50, 50, 32)   0           batch_normalization_35[0][0]     \n",
      "__________________________________________________________________________________________________\n",
      "conv2d_36 (Conv2D)              (None, 50, 50, 32)   9248        activation_35[0][0]              \n",
      "__________________________________________________________________________________________________\n",
      "batch_normalization_36 (BatchNo (None, 50, 50, 32)   128         conv2d_36[0][0]                  \n",
      "__________________________________________________________________________________________________\n",
      "activation_36 (Activation)      (None, 50, 50, 32)   0           batch_normalization_36[0][0]     \n",
      "__________________________________________________________________________________________________\n",
      "conv2d_37 (Conv2D)              (None, 50, 50, 32)   9248        activation_36[0][0]              \n",
      "__________________________________________________________________________________________________\n",
      "add_14 (Add)                    (None, 50, 50, 32)   0           conv2d_37[0][0]                  \n",
      "                                                                 conv2d_35[0][0]                  \n",
      "__________________________________________________________________________________________________\n",
      "batch_normalization_37 (BatchNo (None, 50, 50, 32)   128         add_14[0][0]                     \n",
      "__________________________________________________________________________________________________\n",
      "activation_37 (Activation)      (None, 50, 50, 32)   0           batch_normalization_37[0][0]     \n",
      "__________________________________________________________________________________________________\n",
      "conv2d_38 (Conv2D)              (None, 50, 50, 32)   9248        activation_37[0][0]              \n",
      "__________________________________________________________________________________________________\n",
      "batch_normalization_38 (BatchNo (None, 50, 50, 32)   128         conv2d_38[0][0]                  \n",
      "__________________________________________________________________________________________________\n",
      "activation_38 (Activation)      (None, 50, 50, 32)   0           batch_normalization_38[0][0]     \n",
      "__________________________________________________________________________________________________\n",
      "conv2d_39 (Conv2D)              (None, 50, 50, 32)   9248        activation_38[0][0]              \n",
      "__________________________________________________________________________________________________\n",
      "add_15 (Add)                    (None, 50, 50, 32)   0           conv2d_39[0][0]                  \n",
      "                                                                 add_14[0][0]                     \n",
      "__________________________________________________________________________________________________\n",
      "batch_normalization_39 (BatchNo (None, 50, 50, 32)   128         add_15[0][0]                     \n",
      "__________________________________________________________________________________________________\n",
      "activation_39 (Activation)      (None, 50, 50, 32)   0           batch_normalization_39[0][0]     \n",
      "__________________________________________________________________________________________________\n",
      "conv2d_transpose_3 (Conv2DTrans (None, 101, 101, 16) 4624        activation_39[0][0]              \n",
      "__________________________________________________________________________________________________\n",
      "concatenate_3 (Concatenate)     (None, 101, 101, 32) 0           conv2d_transpose_3[0][0]         \n",
      "                                                                 activation_4[0][0]               \n",
      "__________________________________________________________________________________________________\n",
      "dropout_7 (Dropout)             (None, 101, 101, 32) 0           concatenate_3[0][0]              \n",
      "__________________________________________________________________________________________________\n",
      "conv2d_40 (Conv2D)              (None, 101, 101, 16) 4624        dropout_7[0][0]                  \n",
      "__________________________________________________________________________________________________\n",
      "batch_normalization_40 (BatchNo (None, 101, 101, 16) 64          conv2d_40[0][0]                  \n",
      "__________________________________________________________________________________________________\n",
      "activation_40 (Activation)      (None, 101, 101, 16) 0           batch_normalization_40[0][0]     \n",
      "__________________________________________________________________________________________________\n",
      "conv2d_41 (Conv2D)              (None, 101, 101, 16) 2320        activation_40[0][0]              \n",
      "__________________________________________________________________________________________________\n",
      "batch_normalization_41 (BatchNo (None, 101, 101, 16) 64          conv2d_41[0][0]                  \n",
      "__________________________________________________________________________________________________\n",
      "activation_41 (Activation)      (None, 101, 101, 16) 0           batch_normalization_41[0][0]     \n",
      "__________________________________________________________________________________________________\n",
      "conv2d_42 (Conv2D)              (None, 101, 101, 16) 2320        activation_41[0][0]              \n",
      "__________________________________________________________________________________________________\n",
      "add_16 (Add)                    (None, 101, 101, 16) 0           conv2d_42[0][0]                  \n",
      "                                                                 conv2d_40[0][0]                  \n",
      "__________________________________________________________________________________________________\n",
      "batch_normalization_42 (BatchNo (None, 101, 101, 16) 64          add_16[0][0]                     \n",
      "__________________________________________________________________________________________________\n",
      "activation_42 (Activation)      (None, 101, 101, 16) 0           batch_normalization_42[0][0]     \n",
      "__________________________________________________________________________________________________\n",
      "conv2d_43 (Conv2D)              (None, 101, 101, 16) 2320        activation_42[0][0]              \n",
      "__________________________________________________________________________________________________\n",
      "batch_normalization_43 (BatchNo (None, 101, 101, 16) 64          conv2d_43[0][0]                  \n",
      "__________________________________________________________________________________________________\n",
      "activation_43 (Activation)      (None, 101, 101, 16) 0           batch_normalization_43[0][0]     \n",
      "__________________________________________________________________________________________________\n",
      "conv2d_44 (Conv2D)              (None, 101, 101, 16) 2320        activation_43[0][0]              \n",
      "__________________________________________________________________________________________________\n",
      "add_17 (Add)                    (None, 101, 101, 16) 0           conv2d_44[0][0]                  \n",
      "                                                                 add_16[0][0]                     \n",
      "__________________________________________________________________________________________________\n",
      "batch_normalization_44 (BatchNo (None, 101, 101, 16) 64          add_17[0][0]                     \n",
      "__________________________________________________________________________________________________\n",
      "activation_44 (Activation)      (None, 101, 101, 16) 0           batch_normalization_44[0][0]     \n",
      "__________________________________________________________________________________________________\n",
      "conv2d_45 (Conv2D)              (None, 101, 101, 1)  17          activation_44[0][0]              \n",
      "__________________________________________________________________________________________________\n",
      "activation_45 (Activation)      (None, 101, 101, 1)  0           conv2d_45[0][0]                  \n",
      "==================================================================================================\n",
      "Total params: 5,119,857\n",
      "Trainable params: 5,112,497\n",
      "Non-trainable params: 7,360\n",
      "__________________________________________________________________________________________________\n"
     ]
    }
   ],
   "source": [
    "model = Model(inputs=[input_layer], outputs=[output_layer])\n",
    "print(\"BUILD MODEL\")\n",
    "adam_optimizer = optimizers.Adam(learning_rate=0.005)\n",
    "model.compile(optimizer=adam_optimizer, loss='binary_crossentropy', metrics=[my_iou_metric])\n",
    "print(\"COMPILE\")\n",
    "model.summary()"
   ]
  },
  {
   "cell_type": "markdown",
   "metadata": {},
   "source": [
    "#### -----> Training"
   ]
  },
  {
   "cell_type": "code",
   "execution_count": 21,
   "metadata": {},
   "outputs": [
    {
     "name": "stdout",
     "output_type": "stream",
     "text": [
      "Epoch 1/10\n",
      "WARNING:tensorflow:From <ipython-input-18-afa8016bca1e>:49: py_func (from tensorflow.python.ops.script_ops) is deprecated and will be removed in a future version.\n",
      "Instructions for updating:\n",
      "tf.py_func is deprecated in TF V2. Instead, there are two\n",
      "    options available in V2.\n",
      "    - tf.py_function takes a python function which manipulates tf eager\n",
      "    tensors instead of numpy arrays. It's easy to convert a tf eager tensor to\n",
      "    an ndarray (just call tensor.numpy()) but having access to eager tensors\n",
      "    means `tf.py_function`s can use accelerators such as GPUs as well as\n",
      "    being differentiable using a gradient tape.\n",
      "    - tf.numpy_function maintains the semantics of the deprecated tf.py_func\n",
      "    (it is not differentiable, and manipulates numpy arrays). It drops the\n",
      "    stateful argument making all functions stateful.\n",
      "    \n",
      "225/225 [==============================] - 164s 603ms/step - loss: 0.4324 - my_iou_metric: 0.3448\n",
      "Epoch 2/10\n",
      "225/225 [==============================] - 136s 604ms/step - loss: 0.2977 - my_iou_metric: 0.5271\n",
      "Epoch 3/10\n",
      "225/225 [==============================] - 136s 605ms/step - loss: 0.2732 - my_iou_metric: 0.5364\n",
      "Epoch 4/10\n",
      "225/225 [==============================] - 136s 604ms/step - loss: 0.2535 - my_iou_metric: 0.5606\n",
      "Epoch 5/10\n",
      "225/225 [==============================] - 136s 605ms/step - loss: 0.2512 - my_iou_metric: 0.5565\n",
      "Epoch 6/10\n",
      "225/225 [==============================] - 136s 605ms/step - loss: 0.2273 - my_iou_metric: 0.5778\n",
      "Epoch 7/10\n",
      "225/225 [==============================] - 136s 605ms/step - loss: 0.2039 - my_iou_metric: 0.6065\n",
      "Epoch 8/10\n",
      "225/225 [==============================] - 136s 605ms/step - loss: 0.2103 - my_iou_metric: 0.6156\n",
      "Epoch 9/10\n",
      "225/225 [==============================] - 136s 605ms/step - loss: 0.1920 - my_iou_metric: 0.6386\n",
      "Epoch 10/10\n",
      "225/225 [==============================] - 136s 606ms/step - loss: 0.1917 - my_iou_metric: 0.6347\n"
     ]
    }
   ],
   "source": [
    "epochs = 10\n",
    "batch_len = 32\n",
    "history = model.fit(x_train, y_train, epochs=epochs, shuffle=True, batch_size=batch_len)"
   ]
  },
  {
   "cell_type": "markdown",
   "metadata": {},
   "source": [
    "#### Plotting model results and cleaning up"
   ]
  },
  {
   "cell_type": "code",
   "execution_count": 22,
   "metadata": {},
   "outputs": [],
   "source": [
    "def plot_history(hs, epochs, metric):\n",
    "    print()\n",
    "    plt.style.use('dark_background')\n",
    "    plt.rcParams['figure.figsize'] = [15, 8]\n",
    "    plt.rcParams['font.size'] = 16\n",
    "    plt.clf()\n",
    "    for label in hs:\n",
    "        print(len(hs[label].history['loss']))\n",
    "        plt.plot(hs[label].history[metric], label='{0:s} train {1:s}'.format(label, metric), linewidth=2)\n",
    "        # plt.plot(hs[label].history['val_{0:s}'.format(metric)], label='{0:s} validation {1:s}'.format(label, metric), linewidth=2)\n",
    "    x_ticks = np.arange(0, epochs + 1, epochs / 10)\n",
    "    x_ticks [0] += 1\n",
    "    plt.xticks(x_ticks)\n",
    "    plt.ylim((0, 1))\n",
    "    plt.xlabel('Epochs')\n",
    "    plt.ylabel('Loss' if metric=='loss' else 'Accuracy')\n",
    "    plt.legend()\n",
    "    plt.show()\n",
    "    \n",
    "def clean_up(model):\n",
    "    K.clear_session()\n",
    "    del model\n",
    "    gc.collect()"
   ]
  },
  {
   "cell_type": "code",
   "execution_count": 23,
   "metadata": {},
   "outputs": [
    {
     "name": "stdout",
     "output_type": "stream",
     "text": [
      "\n",
      "10\n"
     ]
    },
    {
     "data": {
      "image/png": "[encoded data removed]",
      "text/plain": [
       "<Figure size 1080x576 with 1 Axes>"
      ]
     },
     "metadata": {},
     "output_type": "display_data"
    },
    {
     "name": "stdout",
     "output_type": "stream",
     "text": [
      "\n",
      "10\n"
     ]
    },
    {
     "data": {
      "image/png": "[encoded data removed]",
      "text/plain": [
       "<Figure size 1080x576 with 1 Axes>"
      ]
     },
     "metadata": {},
     "output_type": "display_data"
    }
   ],
   "source": [
    "plot_history(hs={'U-Net': history}, epochs=epochs, metric='loss')\n",
    "plot_history(hs={'U-Net': history}, epochs=epochs, metric='my_iou_metric')"
   ]
  },
  {
   "cell_type": "code",
   "execution_count": null,
   "metadata": {},
   "outputs": [],
   "source": [
    "clean_up(model)"
   ]
  },
  {
   "cell_type": "code",
   "execution_count": null,
   "metadata": {},
   "outputs": [],
   "source": []
  }
 ],
 "metadata": {
  "kernelspec": {
   "display_name": "KERNEL_DISPLAY_NAME",
   "language": "python",
   "name": "python_tf_env"
  },
  "language_info": {
   "codemirror_mode": {
    "name": "ipython",
    "version": 3
   },
   "file_extension": ".py",
   "mimetype": "text/x-python",
   "name": "python",
   "nbconvert_exporter": "python",
   "pygments_lexer": "ipython3",
   "version": "3.7.6"
  }
 },
 "nbformat": 4,
 "nbformat_minor": 4
}
