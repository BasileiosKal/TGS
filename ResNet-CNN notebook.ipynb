{
 "cells": [
  {
   "cell_type": "code",
   "execution_count": 76,
   "metadata": {},
   "outputs": [],
   "source": [
    "import tensorflow as tf\n",
    "import pandas as pd\n",
    "import numpy as np\n",
    "from matplotlib import pyplot as plt\n",
    "from tensorflow.keras.preprocessing.image import load_img, img_to_array\n",
    "from tensorflow.keras.models import Model \n",
    "from tensorflow.keras.layers import Conv2D, Input, Conv2DTranspose, MaxPooling2D, concatenate, BatchNormalization, Activation, Add, Dropout\n",
    "from skimage.transform import resize\n",
    "from sklearn.model_selection import train_test_split"
   ]
  },
  {
   "cell_type": "code",
   "execution_count": 77,
   "metadata": {},
   "outputs": [],
   "source": [
    "import tensorflow.keras.backend as K\n",
    "import gc\n",
    "from keras import optimizers\n",
    "from tqdm.notebook import tqdm_notebook"
   ]
  },
  {
   "cell_type": "code",
   "execution_count": 96,
   "metadata": {},
   "outputs": [
    {
     "name": "stdout",
     "output_type": "stream",
     "text": [
      "tensorflow version:  2.4.0\n"
     ]
    }
   ],
   "source": [
    "print(\"tensorflow version: \", tf.__version__)"
   ]
  },
  {
   "cell_type": "code",
   "execution_count": 147,
   "metadata": {},
   "outputs": [
    {
     "name": "stdout",
     "output_type": "stream",
     "text": [
      "Loading images...\n"
     ]
    },
    {
     "data": {
      "application/vnd.jupyter.widget-view+json": {
       "model_id": "590baeb87c114dee96b7cfc930ca82a8",
       "version_major": 2,
       "version_minor": 0
      },
      "text/plain": [
       "  0%|          | 0/1000 [00:00<?, ?it/s]"
      ]
     },
     "metadata": {},
     "output_type": "display_data"
    },
    {
     "name": "stdout",
     "output_type": "stream",
     "text": [
      "Loading masks...\n"
     ]
    },
    {
     "data": {
      "application/vnd.jupyter.widget-view+json": {
       "model_id": "18fb6fd2d1974395b33d61192a2cb6c3",
       "version_major": 2,
       "version_minor": 0
      },
      "text/plain": [
       "  0%|          | 0/1000 [00:00<?, ?it/s]"
      ]
     },
     "metadata": {},
     "output_type": "display_data"
    },
    {
     "name": "stdout",
     "output_type": "stream",
     "text": [
      "done loading images\n"
     ]
    }
   ],
   "source": [
    "'''----------LOAD DATA----------------'''\n",
    "\n",
    "data_dir = \"./competition_data\"\n",
    "\n",
    "nrows = 1000\n",
    "if isinstance(nrows, int) and nrows>0:\n",
    "    train_df = pd.read_csv(data_dir+\"/train.csv\", index_col=\"id\", usecols=[0], nrows=nrows)\n",
    "    depths_df = pd.read_csv(data_dir+\"/depths.csv\", index_col=\"id\")\n",
    "    train_df = train_df.join(depths_df)\n",
    "    test_df = depths_df[~depths_df.index.isin(train_df.index)]\n",
    "elif isinstance(nrows, str) and nrows.upper() == \"ALL\":\n",
    "    train_df = pd.read_csv(data_dir+\"/train.csv\", index_col=\"id\", usecols=[0])\n",
    "    depths_df = pd.read_csv(data_dir+\"/depths.csv\", index_col=\"id\")\n",
    "    train_df = train_df.join(depths_df)\n",
    "    test_df = depths_df[~depths_df.index.isin(train_df.index)]\n",
    "else:\n",
    "    raise ValueError(\"Invalid nrows value\")\n",
    "\n",
    "#train_df[\"images\"] = [img_to_array(load_img(data_dir+\"/train/images/{}.png\".format(idx),\n",
    "#                                        color_mode = \"grayscale\"), dtype=\"float32\")/255 for idx in (train_df.index)]\n",
    "\n",
    "#train_df[\"masks\"] = [img_to_array(load_img(data_dir+\"/train/masks/{}.png\".format(idx),\n",
    "#                                       color_mode = \"grayscale\"), dtype=\"float32\")/65535 for idx in (train_df.index)]\n",
    "\n",
    "print(\"Loading images...\")\n",
    "train_df[\"images\"] = [np.array(load_img(data_dir+\"/train/images/{}.png\".format(idx),\n",
    "                                        color_mode = \"grayscale\"))/255 for idx in tqdm_notebook(train_df.index)]\n",
    "print(\"Loading masks...\")\n",
    "train_df[\"masks\"] = [np.array(load_img(data_dir+\"/train/masks/{}.png\".format(idx),\n",
    "                                       color_mode = \"grayscale\"))/65535 for idx in tqdm_notebook(train_df.index)]\n",
    "\n",
    "print(\"done loading images\")"
   ]
  },
  {
   "cell_type": "code",
   "execution_count": 148,
   "metadata": {},
   "outputs": [
    {
     "name": "stdout",
     "output_type": "stream",
     "text": [
      "-------------------------------------------------------------\n",
      "id_index =  0\n",
      "[[0.34117647 0.35686275 0.37254902 ... 0.34901961 0.34117647 0.3372549 ]\n",
      " [0.34901961 0.37254902 0.39607843 ... 0.34901961 0.34901961 0.34509804]\n",
      " [0.37647059 0.39607843 0.41176471 ... 0.34901961 0.35686275 0.34901961]\n",
      " ...\n",
      " [0.16470588 0.14117647 0.14117647 ... 0.4        0.40784314 0.41176471]\n",
      " [0.18823529 0.17254902 0.18431373 ... 0.40392157 0.41176471 0.42352941]\n",
      " [0.20392157 0.19607843 0.20392157 ... 0.40784314 0.41176471 0.42745098]]\n",
      "(101, 101)\n",
      "-------------------------------------------------------------\n",
      "[[0. 0. 0. ... 0. 0. 0.]\n",
      " [0. 0. 0. ... 0. 0. 0.]\n",
      " [0. 0. 0. ... 0. 0. 0.]\n",
      " ...\n",
      " [1. 1. 1. ... 1. 1. 1.]\n",
      " [1. 1. 1. ... 1. 1. 1.]\n",
      " [1. 1. 1. ... 1. 1. 1.]]\n",
      "(101, 101)\n"
     ]
    }
   ],
   "source": [
    "# -------------> data example\n",
    "# printing\n",
    "print(\"-------------------------------------------------------------\")\n",
    "id = '2c45b152f1'\n",
    "id_index = np.where(train_df.index == id)\n",
    "id_index = id_index[0][0]\n",
    "print(\"id_index = \", id_index)\n",
    "image = train_df[\"images\"][id]\n",
    "print(image)\n",
    "print(image.shape)\n",
    "print(\"-------------------------------------------------------------\")\n",
    "mask = train_df[\"masks\"][id]\n",
    "print(mask)\n",
    "print(mask.shape)"
   ]
  },
  {
   "cell_type": "code",
   "execution_count": 149,
   "metadata": {},
   "outputs": [
    {
     "data": {
      "image/png": "[encoded data removed]",
      "text/plain": [
       "<Figure size 1080x576 with 2 Axes>"
      ]
     },
     "metadata": {},
     "output_type": "display_data"
    }
   ],
   "source": [
    "def plot_image_example():\n",
    "    fig_imgshow, (axs_mask, axs_img) = plt.subplots(1, 2)\n",
    "    fig_imgshow.suptitle(\"Data example\")\n",
    "    axs_img.imshow(np.dstack((image, image, image)))  # interpolation='nearest'\n",
    "    axs_img.set(title=\"image\")\n",
    "    tmp = np.squeeze(mask).astype(np.float32)\n",
    "    axs_mask.imshow(np.dstack((tmp, tmp, tmp)))\n",
    "    axs_mask.set(title=\"mask\")\n",
    "\n",
    "\n",
    "plot_image_example()"
   ]
  },
  {
   "cell_type": "markdown",
   "metadata": {},
   "source": [
    "# **Prepossessing Data**"
   ]
  },
  {
   "cell_type": "markdown",
   "metadata": {},
   "source": [
    "#### ------> Resize to a pow of 2"
   ]
  },
  {
   "cell_type": "code",
   "execution_count": 150,
   "metadata": {},
   "outputs": [],
   "source": [
    "# either pad with zeros or resize with interpolation\n",
    "resize_to = 101\n",
    "original_size = 101\n",
    "\n",
    "\n",
    "def upsample(original_img):\n",
    "    if resize_to == original_size:\n",
    "        return original_img\n",
    "    return resize(original_img, (resize_to, resize_to), mode='constant', preserve_range=True)\n",
    "\n",
    "\n",
    "def pad_zeros(array):\n",
    "    padded_image = np.zeros(shape=(resize_to, resize_to))\n",
    "    padded_image[13:114, 13:114] = array\n",
    "    return padded_image"
   ]
  },
  {
   "cell_type": "code",
   "execution_count": 151,
   "metadata": {},
   "outputs": [],
   "source": [
    "resizing_function_to_use = upsample\n",
    "\n",
    "images_resized = np.array(train_df.images.map(resizing_function_to_use).tolist()).reshape((-1, resize_to, resize_to, 1))\n",
    "masks_resized = np.array(train_df.masks.map(resizing_function_to_use).tolist()).reshape((-1, resize_to, resize_to, 1))"
   ]
  },
  {
   "cell_type": "code",
   "execution_count": 152,
   "metadata": {},
   "outputs": [
    {
     "data": {
      "image/png": "[encoded data removed]",
      "text/plain": [
       "<Figure size 1080x576 with 2 Axes>"
      ]
     },
     "metadata": {},
     "output_type": "display_data"
    }
   ],
   "source": [
    "# Plotting\n",
    "def plot_reshape_example():\n",
    "    fig_reshape, (axs_reshape_mask, axs_reshape_img) = plt.subplots(1, 2)\n",
    "    fig_reshape.suptitle(\"Reshaped data example\")\n",
    "    axs_reshape_img.set(title=\"Reshaped image\")\n",
    "    axs_reshape_mask.set(title=\"Reshaped mask\")\n",
    "    axs_reshape_img.imshow(images_resized[id_index], cmap='gray')\n",
    "    axs_reshape_mask.imshow(masks_resized[id_index], cmap='gray')\n",
    "\n",
    "\n",
    "plot_reshape_example()"
   ]
  },
  {
   "cell_type": "markdown",
   "metadata": {},
   "source": [
    "#### ------> Split train/dev"
   ]
  },
  {
   "cell_type": "code",
   "execution_count": 154,
   "metadata": {},
   "outputs": [
    {
     "name": "stdout",
     "output_type": "stream",
     "text": [
      "Train/ Valid shape = 999/ 1\n"
     ]
    }
   ],
   "source": [
    "(ids_train, ids_valid,\n",
    "x_train, x_valid,\n",
    "y_train, y_valid\n",
    "# cov_train, cov_test,\n",
    "#depth_train, depth_test\n",
    " ) = train_test_split(\n",
    "    train_df.index.values,\n",
    "    images_resized,\n",
    "    masks_resized,\n",
    "    # train_df.coverage.values,\n",
    "    # train_df.z.values,\n",
    "    test_size=0.001,\n",
    "    # stratify=train_df.coverage_class,\n",
    "    random_state=1337)\n",
    "\n",
    "print(\"Train/ Valid shape = %d/ %d\"%(x_train.shape[0], x_valid.shape[0]))"
   ]
  },
  {
   "cell_type": "markdown",
   "metadata": {},
   "source": [
    "#### ------> Data augmentation"
   ]
  },
  {
   "cell_type": "code",
   "execution_count": 87,
   "metadata": {},
   "outputs": [],
   "source": [
    "x_train = np.append(x_train, [np.fliplr(x) for x in x_train], axis=0)\n",
    "y_train = np.append(y_train, [np.fliplr(x) for x in y_train], axis=0)"
   ]
  },
  {
   "cell_type": "code",
   "execution_count": 155,
   "metadata": {},
   "outputs": [
    {
     "name": "stdout",
     "output_type": "stream",
     "text": [
      "x_rain shape:  (999, 101, 101, 1)\n",
      "y_train shape:  (999, 101, 101, 1)\n"
     ]
    }
   ],
   "source": [
    "print(\"x_rain shape: \", x_train.shape)\n",
    "print(\"y_train shape: \", y_train.shape)"
   ]
  },
  {
   "cell_type": "markdown",
   "metadata": {},
   "source": [
    "# U-Net"
   ]
  },
  {
   "cell_type": "markdown",
   "metadata": {},
   "source": [
    "#### ------> Model"
   ]
  },
  {
   "cell_type": "code",
   "execution_count": 156,
   "metadata": {},
   "outputs": [],
   "source": [
    "def BatchActivate(x):\n",
    "    x = BatchNormalization()(x)\n",
    "    x = Activation('relu')(x)\n",
    "    return x\n",
    "\n",
    "def convolution_block(x, filters, size, strides=(1,1), padding='same', activation=True):\n",
    "    x = Conv2D(filters, size, strides=strides, padding=padding)(x)\n",
    "    if activation == True:\n",
    "        x = BatchActivate(x)\n",
    "    return x\n",
    "\n",
    "def residual_block(blockInput, num_filters=16, batch_activate = False):\n",
    "    x = BatchActivate(blockInput)\n",
    "    x = convolution_block(x, num_filters, (3,3) )\n",
    "    x = convolution_block(x, num_filters, (3,3), activation=False)\n",
    "    x = Add()([x, blockInput])\n",
    "    if batch_activate:\n",
    "        x = BatchActivate(x)\n",
    "    return x"
   ]
  },
  {
   "cell_type": "code",
   "execution_count": 157,
   "metadata": {},
   "outputs": [],
   "source": [
    "def get_iou_vector(A, B):\n",
    "    # Numpy version    \n",
    "    batch_size = A.shape[0]\n",
    "    #print(\"A shape: \", A.shape)\n",
    "    #print(\"B shape: \", B.shape)\n",
    "    metric = 0.0\n",
    "    for batch in range(batch_size):\n",
    "        \n",
    "        t, p = A[batch], B[batch]\n",
    "        true = np.sum(t)\n",
    "        pred = np.sum(p)\n",
    "        \n",
    "        #print(\"True: \", t)\n",
    "        #print(\"Predicted: \", p)\n",
    "        #print(\"----------------------\")\n",
    "        #print(\"True sum: \", true)\n",
    "        #print(\"Predicted sum: \", pred)\n",
    "        \n",
    "        # deal with empty mask first\n",
    "        if true == 0:\n",
    "            metric += (pred == 0)\n",
    "            continue\n",
    "        \n",
    "        # non empty mask case.  Union is never empty \n",
    "        # hence it is safe to divide by its number of pixels\n",
    "        intersection = np.sum(t * p)\n",
    "        union = true + pred - intersection\n",
    "        iou = intersection / union\n",
    "        \n",
    "        # Scale the iou function: iou -> 2*iou - 0.9\n",
    "        # This will map the threshold values [0.5, 0.55, 0.6, ...., 0.9] to the\n",
    "        # values [0.1, 0.2, 0.3, ....., 0.9]. Then multiply 2*iou - 0.9 by 10 and floor.\n",
    "        # This will map the iou values to the number of thresholds that the iou sutisfies\n",
    "        # witch is what we are intreasted in in the first playse.\n",
    "        # For example if iou=0.552 then floor(2*iou - 0.9)*10 = 2. Since\n",
    "        # eveery value <0 means an original value<0.5 we take the max with 0. Finaly we \n",
    "        # devide by 10 = |threshods|.\n",
    "        iou = np.floor(max(0, (iou - 0.45)*20)) / 10\n",
    "        \n",
    "        metric += iou\n",
    "        \n",
    "    # teake the average over all images in batch\n",
    "    metric /= batch_size\n",
    "    return metric\n",
    "\n",
    "\n",
    "def my_iou_metric(label, pred):\n",
    "    # Tensorflow version\n",
    "    return tf.compat.v1.py_func(get_iou_vector, [label, pred > 0.5], tf.float64)"
   ]
  },
  {
   "cell_type": "code",
   "execution_count": 163,
   "metadata": {},
   "outputs": [
    {
     "name": "stdout",
     "output_type": "stream",
     "text": [
      "START BUILDING MODEL\n",
      "BUILD INPUT\n"
     ]
    }
   ],
   "source": [
    "start_neurons = 16\n",
    "DropoutRatio = 0.5\n",
    "print(\"START BUILDING MODEL\")\n",
    "input_layer = Input((101, 101, 1))\n",
    "print(\"BUILD INPUT\")\n",
    "\n",
    "# 101 -> 50\n",
    "conv1 = Conv2D(start_neurons * 1, (3, 3), activation=None, padding=\"same\")(input_layer)\n",
    "conv1 = residual_block(conv1,start_neurons * 1)\n",
    "conv1 = residual_block(conv1,start_neurons * 1, True)\n",
    "pool1 = MaxPooling2D((2, 2))(conv1)\n",
    "pool1 = Dropout(DropoutRatio/2)(pool1)\n",
    "\n",
    "# 50 -> 25\n",
    "conv2 = Conv2D(start_neurons * 2, (3, 3), activation=None, padding=\"same\")(pool1)\n",
    "conv2 = residual_block(conv2,start_neurons * 2)\n",
    "conv2 = residual_block(conv2,start_neurons * 2, True)\n",
    "pool2 = MaxPooling2D((2, 2))(conv2)\n",
    "pool2 = Dropout(DropoutRatio)(pool2)\n",
    "\n",
    "# 25 -> 12\n",
    "conv3 = Conv2D(start_neurons * 4, (3, 3), activation=None, padding=\"same\")(pool2)\n",
    "conv3 = residual_block(conv3,start_neurons * 4)\n",
    "conv3 = residual_block(conv3,start_neurons * 4, True)\n",
    "pool3 = MaxPooling2D((2, 2))(conv3)\n",
    "pool3 = Dropout(DropoutRatio)(pool3)\n",
    "\n",
    "# 12 -> 6\n",
    "conv4 = Conv2D(start_neurons * 8, (3, 3), activation=None, padding=\"same\")(pool3)\n",
    "conv4 = residual_block(conv4,start_neurons * 8)\n",
    "conv4 = residual_block(conv4,start_neurons * 8, True)\n",
    "pool4 = MaxPooling2D((2, 2))(conv4)\n",
    "pool4 = Dropout(DropoutRatio)(pool4)\n",
    "\n",
    "# Middle\n",
    "convm = Conv2D(start_neurons * 16, (3, 3), activation=None, padding=\"same\")(pool4)\n",
    "convm = residual_block(convm,start_neurons * 16)\n",
    "convm = residual_block(convm,start_neurons * 16, True)\n",
    "    \n",
    "# 6 -> 12\n",
    "deconv4 = Conv2DTranspose(start_neurons * 8, (3, 3), strides=(2, 2), padding=\"same\")(convm)\n",
    "uconv4 = concatenate([deconv4, conv4])\n",
    "uconv4 = Dropout(DropoutRatio)(uconv4)\n",
    "    \n",
    "uconv4 = Conv2D(start_neurons * 8, (3, 3), activation=None, padding=\"same\")(uconv4)\n",
    "uconv4 = residual_block(uconv4,start_neurons * 8)\n",
    "uconv4 = residual_block(uconv4,start_neurons * 8, True)\n",
    "\n",
    "# 12 -> 25\n",
    "#deconv3 = Conv2DTranspose(start_neurons * 4, (3, 3), strides=(2, 2), padding=\"same\")(uconv4)\n",
    "deconv3 = Conv2DTranspose(start_neurons * 4, (3, 3), strides=(2, 2), padding=\"valid\")(uconv4)\n",
    "uconv3 = concatenate([deconv3, conv3])    \n",
    "uconv3 = Dropout(DropoutRatio)(uconv3)\n",
    "    \n",
    "uconv3 = Conv2D(start_neurons * 4, (3, 3), activation=None, padding=\"same\")(uconv3)\n",
    "uconv3 = residual_block(uconv3,start_neurons * 4)\n",
    "uconv3 = residual_block(uconv3,start_neurons * 4, True)\n",
    "\n",
    "# 25 -> 50\n",
    "deconv2 = Conv2DTranspose(start_neurons * 2, (3, 3), strides=(2, 2), padding=\"same\")(uconv3)\n",
    "uconv2 = concatenate([deconv2, conv2])\n",
    "        \n",
    "uconv2 = Dropout(DropoutRatio)(uconv2)\n",
    "uconv2 = Conv2D(start_neurons * 2, (3, 3), activation=None, padding=\"same\")(uconv2)\n",
    "uconv2 = residual_block(uconv2,start_neurons * 2)\n",
    "uconv2 = residual_block(uconv2,start_neurons * 2, True)\n",
    "\n",
    "# 50 -> 101\n",
    "#deconv1 = Conv2DTranspose(start_neurons * 1, (3, 3), strides=(2, 2), padding=\"same\")(uconv2)\n",
    "deconv1 = Conv2DTranspose(start_neurons * 1, (3, 3), strides=(2, 2), padding=\"valid\")(uconv2)\n",
    "uconv1 = concatenate([deconv1, conv1])\n",
    "    \n",
    "uconv1 = Dropout(DropoutRatio)(uconv1)\n",
    "uconv1 = Conv2D(start_neurons * 1, (3, 3), activation=None, padding=\"same\")(uconv1)\n",
    "uconv1 = residual_block(uconv1,start_neurons * 1)\n",
    "uconv1 = residual_block(uconv1,start_neurons * 1, True)\n",
    "    \n",
    "#uconv1 = Dropout(DropoutRatio/2)(uconv1)\n",
    "#output_layer = Conv2D(1, (1,1), padding=\"same\", activation=\"sigmoid\")(uconv1)\n",
    "output_layer_noActi = Conv2D(1, (1,1), padding=\"same\", activation=None)(uconv1)\n",
    "output_layer =  Activation('sigmoid')(output_layer_noActi)"
   ]
  },
  {
   "cell_type": "code",
   "execution_count": 164,
   "metadata": {},
   "outputs": [
    {
     "name": "stdout",
     "output_type": "stream",
     "text": [
      "BUILD MODEL\n",
      "COMPILE\n",
      "Model: \"model_5\"\n",
      "__________________________________________________________________________________________________\n",
      "Layer (type)                    Output Shape         Param #     Connected to                     \n",
      "==================================================================================================\n",
      "input_4 (InputLayer)            [(None, 101, 101, 1) 0                                            \n",
      "__________________________________________________________________________________________________\n",
      "conv2d_120 (Conv2D)             (None, 101, 101, 16) 160         input_4[0][0]                    \n",
      "__________________________________________________________________________________________________\n",
      "batch_normalization_117 (BatchN (None, 101, 101, 16) 64          conv2d_120[0][0]                 \n",
      "__________________________________________________________________________________________________\n",
      "activation_120 (Activation)     (None, 101, 101, 16) 0           batch_normalization_117[0][0]    \n",
      "__________________________________________________________________________________________________\n",
      "conv2d_121 (Conv2D)             (None, 101, 101, 16) 2320        activation_120[0][0]             \n",
      "__________________________________________________________________________________________________\n",
      "batch_normalization_118 (BatchN (None, 101, 101, 16) 64          conv2d_121[0][0]                 \n",
      "__________________________________________________________________________________________________\n",
      "activation_121 (Activation)     (None, 101, 101, 16) 0           batch_normalization_118[0][0]    \n",
      "__________________________________________________________________________________________________\n",
      "conv2d_122 (Conv2D)             (None, 101, 101, 16) 2320        activation_121[0][0]             \n",
      "__________________________________________________________________________________________________\n",
      "add_45 (Add)                    (None, 101, 101, 16) 0           conv2d_122[0][0]                 \n",
      "                                                                 conv2d_120[0][0]                 \n",
      "__________________________________________________________________________________________________\n",
      "batch_normalization_119 (BatchN (None, 101, 101, 16) 64          add_45[0][0]                     \n",
      "__________________________________________________________________________________________________\n",
      "activation_122 (Activation)     (None, 101, 101, 16) 0           batch_normalization_119[0][0]    \n",
      "__________________________________________________________________________________________________\n",
      "conv2d_123 (Conv2D)             (None, 101, 101, 16) 2320        activation_122[0][0]             \n",
      "__________________________________________________________________________________________________\n",
      "batch_normalization_120 (BatchN (None, 101, 101, 16) 64          conv2d_123[0][0]                 \n",
      "__________________________________________________________________________________________________\n",
      "activation_123 (Activation)     (None, 101, 101, 16) 0           batch_normalization_120[0][0]    \n",
      "__________________________________________________________________________________________________\n",
      "conv2d_124 (Conv2D)             (None, 101, 101, 16) 2320        activation_123[0][0]             \n",
      "__________________________________________________________________________________________________\n",
      "add_46 (Add)                    (None, 101, 101, 16) 0           conv2d_124[0][0]                 \n",
      "                                                                 add_45[0][0]                     \n",
      "__________________________________________________________________________________________________\n",
      "batch_normalization_121 (BatchN (None, 101, 101, 16) 64          add_46[0][0]                     \n",
      "__________________________________________________________________________________________________\n",
      "activation_124 (Activation)     (None, 101, 101, 16) 0           batch_normalization_121[0][0]    \n",
      "__________________________________________________________________________________________________\n",
      "max_pooling2d_12 (MaxPooling2D) (None, 50, 50, 16)   0           activation_124[0][0]             \n",
      "__________________________________________________________________________________________________\n",
      "dropout_24 (Dropout)            (None, 50, 50, 16)   0           max_pooling2d_12[0][0]           \n",
      "__________________________________________________________________________________________________\n",
      "conv2d_125 (Conv2D)             (None, 50, 50, 32)   4640        dropout_24[0][0]                 \n",
      "__________________________________________________________________________________________________\n",
      "batch_normalization_122 (BatchN (None, 50, 50, 32)   128         conv2d_125[0][0]                 \n",
      "__________________________________________________________________________________________________\n",
      "activation_125 (Activation)     (None, 50, 50, 32)   0           batch_normalization_122[0][0]    \n",
      "__________________________________________________________________________________________________\n",
      "conv2d_126 (Conv2D)             (None, 50, 50, 32)   9248        activation_125[0][0]             \n",
      "__________________________________________________________________________________________________\n",
      "batch_normalization_123 (BatchN (None, 50, 50, 32)   128         conv2d_126[0][0]                 \n",
      "__________________________________________________________________________________________________\n",
      "activation_126 (Activation)     (None, 50, 50, 32)   0           batch_normalization_123[0][0]    \n",
      "__________________________________________________________________________________________________\n",
      "conv2d_127 (Conv2D)             (None, 50, 50, 32)   9248        activation_126[0][0]             \n",
      "__________________________________________________________________________________________________\n",
      "add_47 (Add)                    (None, 50, 50, 32)   0           conv2d_127[0][0]                 \n",
      "                                                                 conv2d_125[0][0]                 \n",
      "__________________________________________________________________________________________________\n",
      "batch_normalization_124 (BatchN (None, 50, 50, 32)   128         add_47[0][0]                     \n",
      "__________________________________________________________________________________________________\n",
      "activation_127 (Activation)     (None, 50, 50, 32)   0           batch_normalization_124[0][0]    \n",
      "__________________________________________________________________________________________________\n",
      "conv2d_128 (Conv2D)             (None, 50, 50, 32)   9248        activation_127[0][0]             \n",
      "__________________________________________________________________________________________________\n",
      "batch_normalization_125 (BatchN (None, 50, 50, 32)   128         conv2d_128[0][0]                 \n",
      "__________________________________________________________________________________________________\n",
      "activation_128 (Activation)     (None, 50, 50, 32)   0           batch_normalization_125[0][0]    \n",
      "__________________________________________________________________________________________________\n",
      "conv2d_129 (Conv2D)             (None, 50, 50, 32)   9248        activation_128[0][0]             \n",
      "__________________________________________________________________________________________________\n",
      "add_48 (Add)                    (None, 50, 50, 32)   0           conv2d_129[0][0]                 \n",
      "                                                                 add_47[0][0]                     \n",
      "__________________________________________________________________________________________________\n",
      "batch_normalization_126 (BatchN (None, 50, 50, 32)   128         add_48[0][0]                     \n",
      "__________________________________________________________________________________________________\n",
      "activation_129 (Activation)     (None, 50, 50, 32)   0           batch_normalization_126[0][0]    \n",
      "__________________________________________________________________________________________________\n",
      "max_pooling2d_13 (MaxPooling2D) (None, 25, 25, 32)   0           activation_129[0][0]             \n",
      "__________________________________________________________________________________________________\n",
      "dropout_25 (Dropout)            (None, 25, 25, 32)   0           max_pooling2d_13[0][0]           \n",
      "__________________________________________________________________________________________________\n",
      "conv2d_130 (Conv2D)             (None, 25, 25, 64)   18496       dropout_25[0][0]                 \n",
      "__________________________________________________________________________________________________\n",
      "batch_normalization_127 (BatchN (None, 25, 25, 64)   256         conv2d_130[0][0]                 \n",
      "__________________________________________________________________________________________________\n",
      "activation_130 (Activation)     (None, 25, 25, 64)   0           batch_normalization_127[0][0]    \n",
      "__________________________________________________________________________________________________\n",
      "conv2d_131 (Conv2D)             (None, 25, 25, 64)   36928       activation_130[0][0]             \n",
      "__________________________________________________________________________________________________\n",
      "batch_normalization_128 (BatchN (None, 25, 25, 64)   256         conv2d_131[0][0]                 \n",
      "__________________________________________________________________________________________________\n",
      "activation_131 (Activation)     (None, 25, 25, 64)   0           batch_normalization_128[0][0]    \n",
      "__________________________________________________________________________________________________\n",
      "conv2d_132 (Conv2D)             (None, 25, 25, 64)   36928       activation_131[0][0]             \n",
      "__________________________________________________________________________________________________\n",
      "add_49 (Add)                    (None, 25, 25, 64)   0           conv2d_132[0][0]                 \n",
      "                                                                 conv2d_130[0][0]                 \n",
      "__________________________________________________________________________________________________\n",
      "batch_normalization_129 (BatchN (None, 25, 25, 64)   256         add_49[0][0]                     \n",
      "__________________________________________________________________________________________________\n",
      "activation_132 (Activation)     (None, 25, 25, 64)   0           batch_normalization_129[0][0]    \n",
      "__________________________________________________________________________________________________\n",
      "conv2d_133 (Conv2D)             (None, 25, 25, 64)   36928       activation_132[0][0]             \n",
      "__________________________________________________________________________________________________\n",
      "batch_normalization_130 (BatchN (None, 25, 25, 64)   256         conv2d_133[0][0]                 \n",
      "__________________________________________________________________________________________________\n",
      "activation_133 (Activation)     (None, 25, 25, 64)   0           batch_normalization_130[0][0]    \n",
      "__________________________________________________________________________________________________\n",
      "conv2d_134 (Conv2D)             (None, 25, 25, 64)   36928       activation_133[0][0]             \n",
      "__________________________________________________________________________________________________\n",
      "add_50 (Add)                    (None, 25, 25, 64)   0           conv2d_134[0][0]                 \n",
      "                                                                 add_49[0][0]                     \n",
      "__________________________________________________________________________________________________\n",
      "batch_normalization_131 (BatchN (None, 25, 25, 64)   256         add_50[0][0]                     \n",
      "__________________________________________________________________________________________________\n",
      "activation_134 (Activation)     (None, 25, 25, 64)   0           batch_normalization_131[0][0]    \n",
      "__________________________________________________________________________________________________\n",
      "max_pooling2d_14 (MaxPooling2D) (None, 12, 12, 64)   0           activation_134[0][0]             \n",
      "__________________________________________________________________________________________________\n",
      "dropout_26 (Dropout)            (None, 12, 12, 64)   0           max_pooling2d_14[0][0]           \n",
      "__________________________________________________________________________________________________\n",
      "conv2d_135 (Conv2D)             (None, 12, 12, 128)  73856       dropout_26[0][0]                 \n",
      "__________________________________________________________________________________________________\n",
      "batch_normalization_132 (BatchN (None, 12, 12, 128)  512         conv2d_135[0][0]                 \n",
      "__________________________________________________________________________________________________\n",
      "activation_135 (Activation)     (None, 12, 12, 128)  0           batch_normalization_132[0][0]    \n",
      "__________________________________________________________________________________________________\n",
      "conv2d_136 (Conv2D)             (None, 12, 12, 128)  147584      activation_135[0][0]             \n",
      "__________________________________________________________________________________________________\n",
      "batch_normalization_133 (BatchN (None, 12, 12, 128)  512         conv2d_136[0][0]                 \n",
      "__________________________________________________________________________________________________\n",
      "activation_136 (Activation)     (None, 12, 12, 128)  0           batch_normalization_133[0][0]    \n",
      "__________________________________________________________________________________________________\n",
      "conv2d_137 (Conv2D)             (None, 12, 12, 128)  147584      activation_136[0][0]             \n",
      "__________________________________________________________________________________________________\n",
      "add_51 (Add)                    (None, 12, 12, 128)  0           conv2d_137[0][0]                 \n",
      "                                                                 conv2d_135[0][0]                 \n",
      "__________________________________________________________________________________________________\n",
      "batch_normalization_134 (BatchN (None, 12, 12, 128)  512         add_51[0][0]                     \n",
      "__________________________________________________________________________________________________\n",
      "activation_137 (Activation)     (None, 12, 12, 128)  0           batch_normalization_134[0][0]    \n",
      "__________________________________________________________________________________________________\n",
      "conv2d_138 (Conv2D)             (None, 12, 12, 128)  147584      activation_137[0][0]             \n",
      "__________________________________________________________________________________________________\n",
      "batch_normalization_135 (BatchN (None, 12, 12, 128)  512         conv2d_138[0][0]                 \n",
      "__________________________________________________________________________________________________\n",
      "activation_138 (Activation)     (None, 12, 12, 128)  0           batch_normalization_135[0][0]    \n",
      "__________________________________________________________________________________________________\n",
      "conv2d_139 (Conv2D)             (None, 12, 12, 128)  147584      activation_138[0][0]             \n",
      "__________________________________________________________________________________________________\n",
      "add_52 (Add)                    (None, 12, 12, 128)  0           conv2d_139[0][0]                 \n",
      "                                                                 add_51[0][0]                     \n",
      "__________________________________________________________________________________________________\n",
      "batch_normalization_136 (BatchN (None, 12, 12, 128)  512         add_52[0][0]                     \n",
      "__________________________________________________________________________________________________\n",
      "activation_139 (Activation)     (None, 12, 12, 128)  0           batch_normalization_136[0][0]    \n",
      "__________________________________________________________________________________________________\n",
      "max_pooling2d_15 (MaxPooling2D) (None, 6, 6, 128)    0           activation_139[0][0]             \n",
      "__________________________________________________________________________________________________\n",
      "dropout_27 (Dropout)            (None, 6, 6, 128)    0           max_pooling2d_15[0][0]           \n",
      "__________________________________________________________________________________________________\n",
      "conv2d_140 (Conv2D)             (None, 6, 6, 256)    295168      dropout_27[0][0]                 \n",
      "__________________________________________________________________________________________________\n",
      "batch_normalization_137 (BatchN (None, 6, 6, 256)    1024        conv2d_140[0][0]                 \n",
      "__________________________________________________________________________________________________\n",
      "activation_140 (Activation)     (None, 6, 6, 256)    0           batch_normalization_137[0][0]    \n",
      "__________________________________________________________________________________________________\n",
      "conv2d_141 (Conv2D)             (None, 6, 6, 256)    590080      activation_140[0][0]             \n",
      "__________________________________________________________________________________________________\n",
      "batch_normalization_138 (BatchN (None, 6, 6, 256)    1024        conv2d_141[0][0]                 \n",
      "__________________________________________________________________________________________________\n",
      "activation_141 (Activation)     (None, 6, 6, 256)    0           batch_normalization_138[0][0]    \n",
      "__________________________________________________________________________________________________\n",
      "conv2d_142 (Conv2D)             (None, 6, 6, 256)    590080      activation_141[0][0]             \n",
      "__________________________________________________________________________________________________\n",
      "add_53 (Add)                    (None, 6, 6, 256)    0           conv2d_142[0][0]                 \n",
      "                                                                 conv2d_140[0][0]                 \n",
      "__________________________________________________________________________________________________\n",
      "batch_normalization_139 (BatchN (None, 6, 6, 256)    1024        add_53[0][0]                     \n",
      "__________________________________________________________________________________________________\n",
      "activation_142 (Activation)     (None, 6, 6, 256)    0           batch_normalization_139[0][0]    \n",
      "__________________________________________________________________________________________________\n",
      "conv2d_143 (Conv2D)             (None, 6, 6, 256)    590080      activation_142[0][0]             \n",
      "__________________________________________________________________________________________________\n",
      "batch_normalization_140 (BatchN (None, 6, 6, 256)    1024        conv2d_143[0][0]                 \n",
      "__________________________________________________________________________________________________\n",
      "activation_143 (Activation)     (None, 6, 6, 256)    0           batch_normalization_140[0][0]    \n",
      "__________________________________________________________________________________________________\n",
      "conv2d_144 (Conv2D)             (None, 6, 6, 256)    590080      activation_143[0][0]             \n",
      "__________________________________________________________________________________________________\n",
      "add_54 (Add)                    (None, 6, 6, 256)    0           conv2d_144[0][0]                 \n",
      "                                                                 add_53[0][0]                     \n",
      "__________________________________________________________________________________________________\n",
      "batch_normalization_141 (BatchN (None, 6, 6, 256)    1024        add_54[0][0]                     \n",
      "__________________________________________________________________________________________________\n",
      "activation_144 (Activation)     (None, 6, 6, 256)    0           batch_normalization_141[0][0]    \n",
      "__________________________________________________________________________________________________\n",
      "conv2d_transpose_12 (Conv2DTran (None, 12, 12, 128)  295040      activation_144[0][0]             \n",
      "__________________________________________________________________________________________________\n",
      "concatenate_12 (Concatenate)    (None, 12, 12, 256)  0           conv2d_transpose_12[0][0]        \n",
      "                                                                 activation_139[0][0]             \n",
      "__________________________________________________________________________________________________\n",
      "dropout_28 (Dropout)            (None, 12, 12, 256)  0           concatenate_12[0][0]             \n",
      "__________________________________________________________________________________________________\n",
      "conv2d_145 (Conv2D)             (None, 12, 12, 128)  295040      dropout_28[0][0]                 \n",
      "__________________________________________________________________________________________________\n",
      "batch_normalization_142 (BatchN (None, 12, 12, 128)  512         conv2d_145[0][0]                 \n",
      "__________________________________________________________________________________________________\n",
      "activation_145 (Activation)     (None, 12, 12, 128)  0           batch_normalization_142[0][0]    \n",
      "__________________________________________________________________________________________________\n",
      "conv2d_146 (Conv2D)             (None, 12, 12, 128)  147584      activation_145[0][0]             \n",
      "__________________________________________________________________________________________________\n",
      "batch_normalization_143 (BatchN (None, 12, 12, 128)  512         conv2d_146[0][0]                 \n",
      "__________________________________________________________________________________________________\n",
      "activation_146 (Activation)     (None, 12, 12, 128)  0           batch_normalization_143[0][0]    \n",
      "__________________________________________________________________________________________________\n",
      "conv2d_147 (Conv2D)             (None, 12, 12, 128)  147584      activation_146[0][0]             \n",
      "__________________________________________________________________________________________________\n",
      "add_55 (Add)                    (None, 12, 12, 128)  0           conv2d_147[0][0]                 \n",
      "                                                                 conv2d_145[0][0]                 \n",
      "__________________________________________________________________________________________________\n",
      "batch_normalization_144 (BatchN (None, 12, 12, 128)  512         add_55[0][0]                     \n",
      "__________________________________________________________________________________________________\n",
      "activation_147 (Activation)     (None, 12, 12, 128)  0           batch_normalization_144[0][0]    \n",
      "__________________________________________________________________________________________________\n",
      "conv2d_148 (Conv2D)             (None, 12, 12, 128)  147584      activation_147[0][0]             \n",
      "__________________________________________________________________________________________________\n",
      "batch_normalization_145 (BatchN (None, 12, 12, 128)  512         conv2d_148[0][0]                 \n",
      "__________________________________________________________________________________________________\n",
      "activation_148 (Activation)     (None, 12, 12, 128)  0           batch_normalization_145[0][0]    \n",
      "__________________________________________________________________________________________________\n",
      "conv2d_149 (Conv2D)             (None, 12, 12, 128)  147584      activation_148[0][0]             \n",
      "__________________________________________________________________________________________________\n",
      "add_56 (Add)                    (None, 12, 12, 128)  0           conv2d_149[0][0]                 \n",
      "                                                                 add_55[0][0]                     \n",
      "__________________________________________________________________________________________________\n",
      "batch_normalization_146 (BatchN (None, 12, 12, 128)  512         add_56[0][0]                     \n",
      "__________________________________________________________________________________________________\n",
      "activation_149 (Activation)     (None, 12, 12, 128)  0           batch_normalization_146[0][0]    \n",
      "__________________________________________________________________________________________________\n",
      "conv2d_transpose_13 (Conv2DTran (None, 25, 25, 64)   73792       activation_149[0][0]             \n",
      "__________________________________________________________________________________________________\n",
      "concatenate_13 (Concatenate)    (None, 25, 25, 128)  0           conv2d_transpose_13[0][0]        \n",
      "                                                                 activation_134[0][0]             \n",
      "__________________________________________________________________________________________________\n",
      "dropout_29 (Dropout)            (None, 25, 25, 128)  0           concatenate_13[0][0]             \n",
      "__________________________________________________________________________________________________\n",
      "conv2d_150 (Conv2D)             (None, 25, 25, 64)   73792       dropout_29[0][0]                 \n",
      "__________________________________________________________________________________________________\n",
      "batch_normalization_147 (BatchN (None, 25, 25, 64)   256         conv2d_150[0][0]                 \n",
      "__________________________________________________________________________________________________\n",
      "activation_150 (Activation)     (None, 25, 25, 64)   0           batch_normalization_147[0][0]    \n",
      "__________________________________________________________________________________________________\n",
      "conv2d_151 (Conv2D)             (None, 25, 25, 64)   36928       activation_150[0][0]             \n",
      "__________________________________________________________________________________________________\n",
      "batch_normalization_148 (BatchN (None, 25, 25, 64)   256         conv2d_151[0][0]                 \n",
      "__________________________________________________________________________________________________\n",
      "activation_151 (Activation)     (None, 25, 25, 64)   0           batch_normalization_148[0][0]    \n",
      "__________________________________________________________________________________________________\n",
      "conv2d_152 (Conv2D)             (None, 25, 25, 64)   36928       activation_151[0][0]             \n",
      "__________________________________________________________________________________________________\n",
      "add_57 (Add)                    (None, 25, 25, 64)   0           conv2d_152[0][0]                 \n",
      "                                                                 conv2d_150[0][0]                 \n",
      "__________________________________________________________________________________________________\n",
      "batch_normalization_149 (BatchN (None, 25, 25, 64)   256         add_57[0][0]                     \n",
      "__________________________________________________________________________________________________\n",
      "activation_152 (Activation)     (None, 25, 25, 64)   0           batch_normalization_149[0][0]    \n",
      "__________________________________________________________________________________________________\n",
      "conv2d_153 (Conv2D)             (None, 25, 25, 64)   36928       activation_152[0][0]             \n",
      "__________________________________________________________________________________________________\n",
      "batch_normalization_150 (BatchN (None, 25, 25, 64)   256         conv2d_153[0][0]                 \n",
      "__________________________________________________________________________________________________\n",
      "activation_153 (Activation)     (None, 25, 25, 64)   0           batch_normalization_150[0][0]    \n",
      "__________________________________________________________________________________________________\n",
      "conv2d_154 (Conv2D)             (None, 25, 25, 64)   36928       activation_153[0][0]             \n",
      "__________________________________________________________________________________________________\n",
      "add_58 (Add)                    (None, 25, 25, 64)   0           conv2d_154[0][0]                 \n",
      "                                                                 add_57[0][0]                     \n",
      "__________________________________________________________________________________________________\n",
      "batch_normalization_151 (BatchN (None, 25, 25, 64)   256         add_58[0][0]                     \n",
      "__________________________________________________________________________________________________\n",
      "activation_154 (Activation)     (None, 25, 25, 64)   0           batch_normalization_151[0][0]    \n",
      "__________________________________________________________________________________________________\n",
      "conv2d_transpose_14 (Conv2DTran (None, 50, 50, 32)   18464       activation_154[0][0]             \n",
      "__________________________________________________________________________________________________\n",
      "concatenate_14 (Concatenate)    (None, 50, 50, 64)   0           conv2d_transpose_14[0][0]        \n",
      "                                                                 activation_129[0][0]             \n",
      "__________________________________________________________________________________________________\n",
      "dropout_30 (Dropout)            (None, 50, 50, 64)   0           concatenate_14[0][0]             \n",
      "__________________________________________________________________________________________________\n",
      "conv2d_155 (Conv2D)             (None, 50, 50, 32)   18464       dropout_30[0][0]                 \n",
      "__________________________________________________________________________________________________\n",
      "batch_normalization_152 (BatchN (None, 50, 50, 32)   128         conv2d_155[0][0]                 \n",
      "__________________________________________________________________________________________________\n",
      "activation_155 (Activation)     (None, 50, 50, 32)   0           batch_normalization_152[0][0]    \n",
      "__________________________________________________________________________________________________\n",
      "conv2d_156 (Conv2D)             (None, 50, 50, 32)   9248        activation_155[0][0]             \n",
      "__________________________________________________________________________________________________\n",
      "batch_normalization_153 (BatchN (None, 50, 50, 32)   128         conv2d_156[0][0]                 \n",
      "__________________________________________________________________________________________________\n",
      "activation_156 (Activation)     (None, 50, 50, 32)   0           batch_normalization_153[0][0]    \n",
      "__________________________________________________________________________________________________\n",
      "conv2d_157 (Conv2D)             (None, 50, 50, 32)   9248        activation_156[0][0]             \n",
      "__________________________________________________________________________________________________\n",
      "add_59 (Add)                    (None, 50, 50, 32)   0           conv2d_157[0][0]                 \n",
      "                                                                 conv2d_155[0][0]                 \n",
      "__________________________________________________________________________________________________\n",
      "batch_normalization_154 (BatchN (None, 50, 50, 32)   128         add_59[0][0]                     \n",
      "__________________________________________________________________________________________________\n",
      "activation_157 (Activation)     (None, 50, 50, 32)   0           batch_normalization_154[0][0]    \n",
      "__________________________________________________________________________________________________\n",
      "conv2d_158 (Conv2D)             (None, 50, 50, 32)   9248        activation_157[0][0]             \n",
      "__________________________________________________________________________________________________\n",
      "batch_normalization_155 (BatchN (None, 50, 50, 32)   128         conv2d_158[0][0]                 \n",
      "__________________________________________________________________________________________________\n",
      "activation_158 (Activation)     (None, 50, 50, 32)   0           batch_normalization_155[0][0]    \n",
      "__________________________________________________________________________________________________\n",
      "conv2d_159 (Conv2D)             (None, 50, 50, 32)   9248        activation_158[0][0]             \n",
      "__________________________________________________________________________________________________\n",
      "add_60 (Add)                    (None, 50, 50, 32)   0           conv2d_159[0][0]                 \n",
      "                                                                 add_59[0][0]                     \n",
      "__________________________________________________________________________________________________\n",
      "batch_normalization_156 (BatchN (None, 50, 50, 32)   128         add_60[0][0]                     \n",
      "__________________________________________________________________________________________________\n",
      "activation_159 (Activation)     (None, 50, 50, 32)   0           batch_normalization_156[0][0]    \n",
      "__________________________________________________________________________________________________\n",
      "conv2d_transpose_15 (Conv2DTran (None, 101, 101, 16) 4624        activation_159[0][0]             \n",
      "__________________________________________________________________________________________________\n",
      "concatenate_15 (Concatenate)    (None, 101, 101, 32) 0           conv2d_transpose_15[0][0]        \n",
      "                                                                 activation_124[0][0]             \n",
      "__________________________________________________________________________________________________\n",
      "dropout_31 (Dropout)            (None, 101, 101, 32) 0           concatenate_15[0][0]             \n",
      "__________________________________________________________________________________________________\n",
      "conv2d_160 (Conv2D)             (None, 101, 101, 16) 4624        dropout_31[0][0]                 \n",
      "__________________________________________________________________________________________________\n",
      "batch_normalization_157 (BatchN (None, 101, 101, 16) 64          conv2d_160[0][0]                 \n",
      "__________________________________________________________________________________________________\n",
      "activation_160 (Activation)     (None, 101, 101, 16) 0           batch_normalization_157[0][0]    \n",
      "__________________________________________________________________________________________________\n",
      "conv2d_161 (Conv2D)             (None, 101, 101, 16) 2320        activation_160[0][0]             \n",
      "__________________________________________________________________________________________________\n",
      "batch_normalization_158 (BatchN (None, 101, 101, 16) 64          conv2d_161[0][0]                 \n",
      "__________________________________________________________________________________________________\n",
      "activation_161 (Activation)     (None, 101, 101, 16) 0           batch_normalization_158[0][0]    \n",
      "__________________________________________________________________________________________________\n",
      "conv2d_162 (Conv2D)             (None, 101, 101, 16) 2320        activation_161[0][0]             \n",
      "__________________________________________________________________________________________________\n",
      "add_61 (Add)                    (None, 101, 101, 16) 0           conv2d_162[0][0]                 \n",
      "                                                                 conv2d_160[0][0]                 \n",
      "__________________________________________________________________________________________________\n",
      "batch_normalization_159 (BatchN (None, 101, 101, 16) 64          add_61[0][0]                     \n",
      "__________________________________________________________________________________________________\n",
      "activation_162 (Activation)     (None, 101, 101, 16) 0           batch_normalization_159[0][0]    \n",
      "__________________________________________________________________________________________________\n",
      "conv2d_163 (Conv2D)             (None, 101, 101, 16) 2320        activation_162[0][0]             \n",
      "__________________________________________________________________________________________________\n",
      "batch_normalization_160 (BatchN (None, 101, 101, 16) 64          conv2d_163[0][0]                 \n",
      "__________________________________________________________________________________________________\n",
      "activation_163 (Activation)     (None, 101, 101, 16) 0           batch_normalization_160[0][0]    \n",
      "__________________________________________________________________________________________________\n",
      "conv2d_164 (Conv2D)             (None, 101, 101, 16) 2320        activation_163[0][0]             \n",
      "__________________________________________________________________________________________________\n",
      "add_62 (Add)                    (None, 101, 101, 16) 0           conv2d_164[0][0]                 \n",
      "                                                                 add_61[0][0]                     \n",
      "__________________________________________________________________________________________________\n",
      "batch_normalization_161 (BatchN (None, 101, 101, 16) 64          add_62[0][0]                     \n",
      "__________________________________________________________________________________________________\n",
      "activation_164 (Activation)     (None, 101, 101, 16) 0           batch_normalization_161[0][0]    \n",
      "__________________________________________________________________________________________________\n",
      "conv2d_165 (Conv2D)             (None, 101, 101, 1)  17          activation_164[0][0]             \n",
      "__________________________________________________________________________________________________\n",
      "activation_165 (Activation)     (None, 101, 101, 1)  0           conv2d_165[0][0]                 \n",
      "==================================================================================================\n",
      "Total params: 5,119,857\n",
      "Trainable params: 5,112,497\n",
      "Non-trainable params: 7,360\n",
      "__________________________________________________________________________________________________\n"
     ]
    }
   ],
   "source": [
    "model = Model(inputs=[input_layer], outputs=[output_layer])\n",
    "print(\"BUILD MODEL\")\n",
    "adam_optimizer = optimizers.Adam(learning_rate=0.005)\n",
    "model.compile(optimizer=adam_optimizer, loss='binary_crossentropy', metrics=[my_iou_metric])\n",
    "print(\"COMPILE\")\n",
    "model.summary()"
   ]
  },
  {
   "cell_type": "code",
   "execution_count": 161,
   "metadata": {},
   "outputs": [
    {
     "name": "stdout",
     "output_type": "stream",
     "text": [
      "Epoch 1/20\n",
      "WARNING:tensorflow:5 out of the last 51 calls to <function Model.make_train_function.<locals>.train_function at 0x000001963B021DC8> triggered tf.function retracing. Tracing is expensive and the excessive number of tracings could be due to (1) creating @tf.function repeatedly in a loop, (2) passing tensors with different shapes, (3) passing Python objects instead of tensors. For (1), please define your @tf.function outside of the loop. For (2), @tf.function has experimental_relax_shapes=True option that relaxes argument shapes that can avoid unnecessary retracing. For (3), please refer to https://www.tensorflow.org/guide/function#controlling_retracing and https://www.tensorflow.org/api_docs/python/tf/function for  more details.\n",
      "32/32 [==============================] - 78s 2s/step - loss: 0.6468 - my_iou_metric: 0.0882\n",
      "Epoch 2/20\n",
      "32/32 [==============================] - 31s 973ms/step - loss: 0.4373 - my_iou_metric: 0.2330\n",
      "Epoch 3/20\n",
      "32/32 [==============================] - 31s 983ms/step - loss: 0.4367 - my_iou_metric: 0.2610\n",
      "Epoch 4/20\n",
      "32/32 [==============================] - 31s 965ms/step - loss: 0.3953 - my_iou_metric: 0.3828\n",
      "Epoch 5/20\n",
      "32/32 [==============================] - 31s 976ms/step - loss: 0.3842 - my_iou_metric: 0.3959\n",
      "Epoch 6/20\n",
      "32/32 [==============================] - 31s 982ms/step - loss: 0.4107 - my_iou_metric: 0.3947\n",
      "Epoch 7/20\n",
      "32/32 [==============================] - 31s 982ms/step - loss: 0.3835 - my_iou_metric: 0.4344\n",
      "Epoch 8/20\n",
      "32/32 [==============================] - 31s 954ms/step - loss: 0.3309 - my_iou_metric: 0.5130\n",
      "Epoch 9/20\n",
      "32/32 [==============================] - 31s 956ms/step - loss: 0.3490 - my_iou_metric: 0.4861\n",
      "Epoch 10/20\n",
      "32/32 [==============================] - 31s 954ms/step - loss: 0.3332 - my_iou_metric: 0.4998\n",
      "Epoch 11/20\n",
      "32/32 [==============================] - 31s 953ms/step - loss: 0.3194 - my_iou_metric: 0.5086\n",
      "Epoch 12/20\n",
      "32/32 [==============================] - 30s 953ms/step - loss: 0.3065 - my_iou_metric: 0.5340\n",
      "Epoch 13/20\n",
      "32/32 [==============================] - 31s 957ms/step - loss: 0.2952 - my_iou_metric: 0.4784\n",
      "Epoch 14/20\n",
      "32/32 [==============================] - 31s 983ms/step - loss: 0.2780 - my_iou_metric: 0.5189\n",
      "Epoch 15/20\n",
      "32/32 [==============================] - 31s 958ms/step - loss: 0.2817 - my_iou_metric: 0.5114\n",
      "Epoch 16/20\n",
      "32/32 [==============================] - 31s 956ms/step - loss: 0.2673 - my_iou_metric: 0.5155\n",
      "Epoch 17/20\n",
      "32/32 [==============================] - 31s 956ms/step - loss: 0.2784 - my_iou_metric: 0.5387\n",
      "Epoch 18/20\n",
      "32/32 [==============================] - 31s 954ms/step - loss: 0.3339 - my_iou_metric: 0.4709\n",
      "Epoch 19/20\n",
      "32/32 [==============================] - 31s 956ms/step - loss: 0.2602 - my_iou_metric: 0.5340\n",
      "Epoch 20/20\n",
      "32/32 [==============================] - 31s 954ms/step - loss: 0.2970 - my_iou_metric: 0.5052\n"
     ]
    }
   ],
   "source": [
    "epochs = 20\n",
    "batch_len = 32\n",
    "history = model.fit(x_train, y_train, epochs=epochs, shuffle=True, batch_size=batch_len)"
   ]
  },
  {
   "cell_type": "markdown",
   "metadata": {},
   "source": [
    "#### Plotting model results and cleaning up"
   ]
  },
  {
   "cell_type": "code",
   "execution_count": 66,
   "metadata": {},
   "outputs": [],
   "source": [
    "def plot_history(hs, epochs, metric):\n",
    "    print()\n",
    "    plt.style.use('dark_background')\n",
    "    plt.rcParams['figure.figsize'] = [15, 8]\n",
    "    plt.rcParams['font.size'] = 16\n",
    "    plt.clf()\n",
    "    for label in hs:\n",
    "        print(len(hs[label].history['loss']))\n",
    "        plt.plot(hs[label].history[metric], label='{0:s} train {1:s}'.format(label, metric), linewidth=2)\n",
    "        # plt.plot(hs[label].history['val_{0:s}'.format(metric)], label='{0:s} validation {1:s}'.format(label, metric), linewidth=2)\n",
    "    x_ticks = np.arange(0, epochs + 1, epochs / 10)\n",
    "    x_ticks [0] += 1\n",
    "    plt.xticks(x_ticks)\n",
    "    plt.ylim((0, 1))\n",
    "    plt.xlabel('Epochs')\n",
    "    plt.ylabel('Loss' if metric=='loss' else 'Accuracy')\n",
    "    plt.legend()\n",
    "    plt.show()\n",
    "    \n",
    "def clean_up(model):\n",
    "    K.clear_session()\n",
    "    del model\n",
    "    gc.collect()"
   ]
  },
  {
   "cell_type": "code",
   "execution_count": 162,
   "metadata": {},
   "outputs": [
    {
     "name": "stdout",
     "output_type": "stream",
     "text": [
      "\n",
      "20\n"
     ]
    },
    {
     "data": {
      "image/png": "[encoded data removed]",
      "text/plain": [
       "<Figure size 1080x576 with 1 Axes>"
      ]
     },
     "metadata": {},
     "output_type": "display_data"
    },
    {
     "name": "stdout",
     "output_type": "stream",
     "text": [
      "\n",
      "20\n"
     ]
    },
    {
     "data": {
      "image/png": "[encoded data removed]",
      "text/plain": [
       "<Figure size 1080x576 with 1 Axes>"
      ]
     },
     "metadata": {},
     "output_type": "display_data"
    }
   ],
   "source": [
    "plot_history(hs={'U-Net': history}, epochs=epochs, metric='loss')\n",
    "plot_history(hs={'U-Net': history}, epochs=epochs, metric='my_iou_metric')"
   ]
  },
  {
   "cell_type": "code",
   "execution_count": 117,
   "metadata": {},
   "outputs": [],
   "source": [
    "clean_up(model)"
   ]
  },
  {
   "cell_type": "code",
   "execution_count": null,
   "metadata": {},
   "outputs": [],
   "source": []
  }
 ],
 "metadata": {
  "kernelspec": {
   "display_name": "KERNEL_DISPLAY_NAME",
   "language": "python",
   "name": "python_tf_env"
  },
  "language_info": {
   "codemirror_mode": {
    "name": "ipython",
    "version": 3
   },
   "file_extension": ".py",
   "mimetype": "text/x-python",
   "name": "python",
   "nbconvert_exporter": "python",
   "pygments_lexer": "ipython3",
   "version": "3.7.6"
  }
 },
 "nbformat": 4,
 "nbformat_minor": 4
}
